{
 "cells": [
  {
   "cell_type": "markdown",
   "metadata": {},
   "source": [
    "# Contents:\n",
    " 1. Read and sparse X-ray/neutron diffraction refinement files produced by Fullprof\n",
    " 2. Plot the data in the PRF file: data, calculation and their difference\n",
    " 3. Read and load the neutron diffraction data from the DMC instrument in PSI\n"
   ]
  },
  {
   "cell_type": "markdown",
   "metadata": {},
   "source": [
    "# Read and sparse X-ray/neutron diffraction refinement files produced by Fullprof"
   ]
  },
  {
   "cell_type": "code",
   "execution_count": 1,
   "metadata": {
    "collapsed": false,
    "jupyter": {
     "outputs_hidden": false
    }
   },
   "outputs": [],
   "source": [
    "##################################################################\n",
    "# Three functions for import and plot PRF file from fullprof #\n",
    "##################################################################\n",
    "# \n",
    "import numpy as np\n",
    "import matplotlib.pyplot as plt\n",
    "import os\n",
    "%matplotlib ipympl\n",
    "plt.rcParams[\"font.family\"] = 'arial'\n",
    "#plt.rcParams['figure.figsize'] = 5, 10\n",
    "\n",
    "### defind the prf object\n",
    "class prf(object):\n",
    "    def __init__(self, pname, abc, abg, sg, wavelen, nopeaks, the2, yobs, ycal, yo_c, bragg, bpos):\n",
    "        self.phasename = pname\n",
    "        self.abc, self.abg, self.sg, self.wavelen, self.nopeaks   =   abc, abg, sg, wavelen, nopeaks\n",
    "        self.the2, self.yobs, self.ycal, self.yo_c, self.bragg, self.bpos   =   the2, yobs, ycal, yo_c, bragg, bpos\n",
    "\n",
    "### read function        \n",
    "def read_prf(file):\n",
    "    f=open(file, 'rU').readlines()\n",
    "    dataStartAt = 0\n",
    "    # read the headerlines: sometime the prf file has different no. of lines of header; \n",
    "    # and determine No. of peaks\n",
    "    for row, line in enumerate(f):\n",
    "        line = line.rstrip('\\n').split()\n",
    "        if row == 0:\n",
    "            phasename = line[0]\n",
    "            idx = line.index('CELL:')\n",
    "            abc, abg = map(np.float,line[idx+1:idx+4]), map(np.float,line[idx+4:idx+7])  \n",
    "            sg = ''.join(line[line.index('SPGR:')+1:]); \n",
    "        elif row == 1:\n",
    "            noposs = np.int(line[1])\n",
    "            wavelen = np.float(line[2])\n",
    "        elif line[0]=='2Theta':\n",
    "            dataStartAt = row+1\n",
    "            print('dataStartAt', dataStartAt,'th line')\n",
    "        elif row>10 and len(line)== 5:\n",
    "            nopeaks = row - dataStartAt\n",
    "            print('no. of peak', nopeaks)\n",
    "            break\n",
    "    the2 = np.zeros([noposs,1],dtype=float)\n",
    "    bragg = np.zeros([nopeaks,1],dtype=float)\n",
    "    yobs, ycal, yo_c =np.zeros_like(the2), np.zeros_like(the2), np.zeros_like(the2)\n",
    "    bpos = np.zeros_like(bragg)\n",
    "    print(\"Phase Name \", phasename,\"\\n\", \"No of data points\", noposs, the2.shape,bragg.shape)\n",
    "    idx = 0\n",
    "    # read data : 5 columns （2theta,Yobs,Ycal,Yo-Yc,bragg, braggY）\n",
    "    for line in f[dataStartAt:]:\n",
    "        line=line.rstrip('\\n').split()\n",
    "        if len(line)>5: # just use try except for fun!!!\n",
    "            try:\n",
    "                the2[idx], yobs[idx], ycal[idx], yo_c[idx], _, bragg[idx], bpos[idx] =np.array(list(map(np.float,line[0:7])))\n",
    "                idx += 1\n",
    "            except:\n",
    "                print(line[0:7])\n",
    "        else:\n",
    "            the2[idx], yobs[idx], ycal[idx], yo_c[idx] = map(np.float,line[0:4]) \n",
    "            idx += 1\n",
    "    return prf(phasename, abc, abg, sg, wavelen, nopeaks,\n",
    "               the2.ravel(), yobs.ravel(), ycal.ravel(), yo_c.ravel(), bragg.ravel(), bpos.ravel());\n",
    "\n",
    "###### plot function\n",
    "# def the autocale_y fun for setting xlim then autoscale Ylim (not used)\n",
    "def autoscale_y(ax,margin=0.1):\n",
    "    \"\"\"This function rescales the y-axis based on the data that is visible given the current xlim of the axis.\n",
    "    ax -- a matplotlib axes object\n",
    "    margin -- the fraction of the total height of the y-data to pad the upper and lower ylims\"\"\"\n",
    "    import numpy as np\n",
    "    def get_bottom_top(line):\n",
    "        xd = line.get_xdata()\n",
    "        yd = line.get_ydata()\n",
    "        lo,hi = ax.get_xlim()\n",
    "        y_displayed = yd[((xd>lo) & (xd<hi))]\n",
    "        h = np.max(y_displayed) - np.min(y_displayed)\n",
    "        bot = np.min(y_displayed)-margin*h\n",
    "        top = np.max(y_displayed)+margin*h\n",
    "        return bot,top\n",
    "\n",
    "    lines = ax.get_lines()\n",
    "    bot,top = np.inf, -np.inf\n",
    "\n",
    "    for line in lines:\n",
    "        new_bot, new_top = get_bottom_top(line)\n",
    "        if new_bot < bot: bot = new_bot\n",
    "        if new_top > top: top = new_top\n",
    "            \n",
    "    ax.set_ylim(bot,top)\n",
    "\n",
    "\n",
    "def plot_prf(prf,**kwargs):\n",
    "    #plot_prf(prf, symblesize, linewidth, axefont, scale, shiftDeff, shiftBragg):\n",
    "    \"\"\"Reference Values:\n",
    "    plot_prf(prf,[4.2,86])\n",
    "    plot_prf(prf, 4, 1, 14, 1.1, 0, 0)\n",
    "    \"\"\" \n",
    "    figsize=(5.5,4); xlim=None; ylim=None; yscale=1.05; dyshift=0.1; bshift=0.05; legendcol=1\n",
    "    inset=False; infigsize =[0.5, 0.5, 0.2, 0.2]; inxlim =None; inylim=None; # inset figsize [left, bottom, width, height]\n",
    "    labelfont=14; ticksize=12; infont=12; savepath=None # if not saved here, the fig can be called and saved later\n",
    "    for kw in kwargs:\n",
    "        if kw == \"figsize\": figsize = kwargs[kw]\n",
    "        elif kw == \"xlim\": xlim = kwargs[kw]\n",
    "        elif kw == \"ylim\": ylim = kwargs[kw]\n",
    "        elif kw == \"yscale\": yscale = kwargs[kw]\n",
    "        elif kw == \"dyshift\": dyshift = kwargs[kw]\n",
    "        elif kw == \"bshift\": bshift = kwargs[kw]\n",
    "        elif kw == \"legendcol\": legendcol = kwargs[kw]\n",
    "        elif kw == \"inset\": inset = kwargs[kw]\n",
    "        elif kw == \"infigsize\": inset=True; infigsize = kwargs[kw]\n",
    "        elif kw == \"inxlim\": inset=True; inxlim = kwargs[kw]\n",
    "        elif kw == \"inylim\": inset=True; inylim = kwargs[kw]\n",
    "        elif kw == \"labelfont\": labelfont = kwargs[kw]\n",
    "        elif kw == \"ticksize\": ticksize = kwargs[kw]\n",
    "        elif kw == \"infont\": infont = kwargs[kw]\n",
    "        elif kw == \"savepath\": savepath = kwargs[kw]\n",
    "    # transfer data\n",
    "    ymax = np.max(prf.yobs)*yscale # for scaling the data small than 1\n",
    "    the2,yobs,ycal,yo_c,bragg,ybragg = prf.the2, prf.yobs/ymax, prf.ycal/ymax, prf.yo_c/ymax+dyshift,\\\n",
    "                                       prf.bragg, prf.bpos/ymax+bshift   \n",
    "    # main fig plot\n",
    "    fig = plt.figure('fig_prf',figsize=figsize)\n",
    "    ax = fig.add_subplot(111, autoscale_on=True)\n",
    "    ax.plot(the2, yobs, 'o', mec = 'red', mfc='white', ms='4', label=\"Yobs\",  rasterized=False)\n",
    "    ax.plot(the2, ycal, c='black', label=\"Ycal\",  rasterized=False)\n",
    "    ax.plot(the2, yo_c, c='blue',label=\"Yobs-Ycal\", rasterized=False)  \n",
    "    print(the2,yo_c)\n",
    "    ax.plot(bragg, ybragg, '|', ms='6', c='green',label=\"Bragg Pos.\" )  \n",
    "    \n",
    "    if xlim != None: plt.xlim(xlim)\n",
    "    if ylim != None: plt.ylim(ylim)\n",
    "    \n",
    "    leg = ax.legend(loc='best',numpoints=1,ncol=legendcol,frameon=True,framealpha=1,fontsize=12,fancybox=True,shadow=False)\n",
    "    leg.get_frame().set_edgecolor('w') \n",
    "    ax.set_xlabel(r'2Theta (degree)',size=labelfont)#,labelpad=0)\n",
    "    ax.set_ylabel('Intensity (a.u.)',size=labelfont)#,labelpad=0)    \n",
    "    #plt.xlabel(r\"2Theta (degree)\",size=labelfont)\n",
    "    #plt.ylabel('Intensity (a.u.)',size=labelfont)\n",
    "    #ax.yaxis.labelpad = 5 # ylable position\n",
    "    plt.minorticks_on()\n",
    "    plt.xticks(color='k', size=ticksize)\n",
    "    plt.yticks(color='k', size=ticksize)\n",
    "    \n",
    "    # Plot zoomed inset\n",
    "    if inset==True:\n",
    "        left, bottom, width, height = infigsize\n",
    "        ax2 = fig.add_axes([left, bottom, width, height],frame_on=True)#, animated=True)\n",
    "        ax2.autoscale(enable=True, axis='y', tight=None)\n",
    "        # ax2.autoscale_view(True,True,False) # it refers to all the data ploted (we can just plot part of the data)\n",
    "        # just plot the needed data to enable autoscale Y\n",
    "        if inxlim != None:\n",
    "            mask = (the2 >= inxlim[0]) & (the2 <= inxlim[1])\n",
    "            ax2.plot(the2[mask], yobs[mask], 'o', mec = 'red', mfc='white', ms='4', label=\"Yobs\", rasterized=True)\n",
    "            ax2.plot(the2[mask], ycal[mask], c='black',label=\"Ycal\", rasterized=True)\n",
    "        else:\n",
    "            ax2.plot(the2, yobs, 'o', mec = 'red', mfc='white', ms='4', label=\"Yobs\", rasterized=True)\n",
    "            ax2.plot(the2, ycal, c='black',label=\"Ycal\",  rasterized=True)            \n",
    "        if inylim != None: plt.ylim(inylim)\n",
    "        plt.yticks(visible=False)\n",
    "        #plt.minorticks_on()\n",
    "    if savepath != None:\n",
    "        print(\"Fig saved \", savepath)\n",
    "        fig.savefig(savepath, bbox_inches=\"tight\", verbose=True)\n",
    "    #plt.show()\n",
    "    \n",
    "######## this part is use zoom fun, not good: cannot choose the size of the zoomed fig \n",
    "#(because it depend on zoomed region and zoom scale) \n",
    "#     if inset==True:\n",
    "#         from matplotlib.ticker import MaxNLocator\n",
    "#         from mpl_toolkits.axes_grid1.inset_locator import mark_inset\n",
    "#         from mpl_toolkits.axes_grid1.inset_locator import zoomed_inset_axes\n",
    "#         axins = zoomed_inset_axes(ax, 15, loc=10,\n",
    "#                                   bbox_to_anchor=(0.6, 0.5), bbox_transform=ax.figure.transFigure)\n",
    "#         axins.plot(the2, yobs, 'o', mec = 'red', mfc='white', ms='4', label=\"Yobs\")\n",
    "#         axins.plot(the2, ycal, c='black',label=\"Ycal\")      \n",
    "#         axins.axis([70, 75, 0, 0.015])\n",
    "#         #axins.invert_yaxis() # get the ticks point out\n",
    "#         #axins.xaxis.tick_top()\n",
    "#         plt.xticks(visible=False)\n",
    "#         plt.yticks(visible=False)\n",
    "#         mark_inset(ax, axins, loc1=3, loc2=1, fc=\"none\", ec=\"0.5\",zorder = 3)\n",
    "#         axins.xaxis.set_major_locator(MaxNLocator(nbins=1, prune='lower'))"
   ]
  },
  {
   "cell_type": "markdown",
   "metadata": {},
   "source": [
    "# Plot the data in the PRF file: data, calculation and their difference"
   ]
  },
  {
   "cell_type": "code",
   "execution_count": 2,
   "metadata": {},
   "outputs": [
    {
     "name": "stdout",
     "output_type": "stream",
     "text": [
      "dataStartAt 5 th line\n",
      "no. of peak 756\n",
      "Phase Name  NZO5K \n",
      " No of data points 23787 (23787, 1) (756, 1)\n",
      "NZO5K <map object at 0x000001B281E72BA8> <map object at 0x000001B281E72CF8> Fd-3m 756 0.49573\n"
     ]
    },
    {
     "name": "stderr",
     "output_type": "stream",
     "text": [
      "C:\\ProgramData\\Anaconda3\\lib\\site-packages\\ipykernel_launcher.py:21: DeprecationWarning: 'U' mode is deprecated\n"
     ]
    }
   ],
   "source": [
    "# Nd2Zr2O7 Fullprof\n",
    "fpath1 = 'D:/1_XRD/1 MSbeamline_July2014/Nd2Zr2O7/NZO5K.prf'\n",
    "nzo = read_prf(fpath1)\n",
    "print(nzo.phasename,nzo.abc, nzo.abg, nzo.sg, nzo.nopeaks,nzo.wavelen)#,nzo.the2"
   ]
  },
  {
   "cell_type": "code",
   "execution_count": 3,
   "metadata": {},
   "outputs": [
    {
     "name": "stdout",
     "output_type": "stream",
     "text": [
      "[ 0.3708  0.3744  0.378  ... 85.9932 85.9968 86.0004] [-0.14760802 -0.14760802 -0.14760802 ... -0.14727606 -0.14721085\n",
      " -0.14741833]\n"
     ]
    },
    {
     "data": {
      "image/png": "[encoded data removed]",
      "text/plain": [
       "<Figure size 396x288 with 2 Axes>"
      ]
     },
     "metadata": {
      "needs_background": "light"
     },
     "output_type": "display_data"
    }
   ],
   "source": [
    "# % matplotlib notebook\n",
    "plot_prf(nzo,xlim=[4,85],bshift=-0.05,dshift=0.0,\n",
    "         inset=True,infigsize=[0.45,0.35,0.4,0.35],inxlim=[72,78], infont=12, legendcol=2)\n",
    "ax = plt.gcf().get_axes()[0]\n",
    "ax.text(12, 0.85,r'Nd$_2$Zr$_2$O$_7$',size=14, ha='left', va='center', \n",
    "            backgroundcolor='white',zorder=1,bbox=dict(facecolor='none', edgecolor='white', boxstyle='round'))\n",
    "ax.yaxis.labelpad = -4 # ylable position"
   ]
  },
  {
   "cell_type": "markdown",
   "metadata": {},
   "source": [
    "# Read and load the neutron diffraction data from the DMC instrument in PSI"
   ]
  },
  {
   "cell_type": "code",
   "execution_count": 7,
   "metadata": {
    "collapsed": false,
    "jupyter": {
     "outputs_hidden": false
    }
   },
   "outputs": [
    {
     "name": "stdout",
     "output_type": "stream",
     "text": [
      "The data is \n",
      " ['DMC,', 'Nd2Zr2O7', '2.45A', '100mK']\n",
      "The data is \n",
      " ['lambda=', '2.46087,', 'T=', '0.076,', 'dT=', '0.009,', \"Date='2014-09-10\", \"05:49:42'\"]\n",
      "The 2theta is 11.0 0.1 92.7 818\n",
      "The data shape is (818, 3)\n",
      "Error 0 ['10024.', '9921.', '9866.', '9977.', '9742.', '9555.', '9466.', '9604.', '9628.', '9621.']\n",
      "[[11.   0.   0. ]\n",
      " [11.1  0.   0. ]\n",
      " [11.2  0.   0. ]\n",
      " ...\n",
      " [92.5  0.   0. ]\n",
      " [92.6  0.   0. ]\n",
      " [92.7  0.   0. ]] D:/5_Neutron Scattering/2_DMC_PSI_Sep2014__NdGdZrO/xu(data_PSI_Computer)/Nd2Zr2O7/2.45_100mk_colm.dat\n"
     ]
    },
    {
     "name": "stderr",
     "output_type": "stream",
     "text": [
      "C:\\ProgramData\\Anaconda3\\lib\\site-packages\\ipykernel_launcher.py:10: DeprecationWarning: 'U' mode is deprecated\n",
      "  # Remove the CWD from sys.path while we load stuff.\n"
     ]
    }
   ],
   "source": [
    "################################### Read the dmc data ################\n",
    "########### define the function to read ND DMC data file and the binning fun. #########\n",
    "#################################################################\n",
    "#%matplotlib qt\n",
    "import os\n",
    "import numpy as np\n",
    "import matplotlib.pyplot as plt # after importting matplotlib, mayavi can not set api to 2: first run mayavi!!!!\n",
    "\n",
    "def read_dmc(fpath):\n",
    "    with open(fpath, 'rU') as f:\n",
    "        i, ii = 0, 0\n",
    "        for line in f:     \n",
    "            if i==0 or i==1:\n",
    "                line = line.rstrip('\\n').split()\n",
    "                print(\"The data is\",'\\n',line)\n",
    "                i+=1\n",
    "            elif i==2:          ##### Gernerate 2theta from inf. in the 3rd line\n",
    "                line = line.rstrip('\\n').split()\n",
    "                spts,step,fpts = map(np.float,[line[0],line[1],line[2]])\n",
    "                numpts = int((fpts-spts)/step+1) # why 1314 is 1313 for np\n",
    "                print('The 2theta is',spts,step,fpts,numpts)\n",
    "                diffdata = np.zeros((numpts,3))\n",
    "                print('The data shape is',diffdata.shape)\n",
    "                diffdata[:,0] = np.linspace(spts,fpts,num=numpts,endpoint=True)\n",
    "                i+=1\n",
    "            else:              ##### Now read the intensity and error\n",
    "                if ii<numpts:\n",
    "                    line = line.rstrip('\\n').split()\n",
    "                    apd = len(line)\n",
    "                    try:\n",
    "                        diffdata[ii:ii+apd,1]= map(np.float,line)\n",
    "                        ii+=apd\n",
    "                    except:\n",
    "                        print('Error',ii, line)\n",
    "                        break\n",
    "                else:\n",
    "                    if ii<2*numpts:\n",
    "                        line = line.rstrip('\\n').split()\n",
    "                        apd = len(line)\n",
    "                        diffdata[ii-numpts:ii-numpts+apd,2]= map(np.float,line)\n",
    "                        ii+=apd\n",
    "    return diffdata\n",
    "\n",
    "#This binning with the error calculated in this way is not good if the input data has too few point. \n",
    "# For example, if nbins=size(x), error will be 0.\n",
    "def lin_binning(x,y,nbins): #input: data x,y ; No of points you want nbins  \n",
    "    #nbins+=1     \n",
    "    x = x[~np.isnan(x)] # remove nan from the data\n",
    "    y = y[~np.isnan(y)]\n",
    "    \n",
    "    n, _ = np.histogram(x, bins=nbins) # n=len(x)/nbins\n",
    "    n[np.argwhere(n==0)]=1 #repalce 0 by 1 for dividing later\n",
    "    meanx= np.histogram(x, bins=nbins, weights=x)[0] / n\n",
    "    meany= np.histogram(x, bins=nbins, weights=y) [0]/ n\n",
    "    meany2= np.histogram(x, bins=nbins, weights=y*y)[0] / n\n",
    "    std_y = np.sqrt(meany2 - meany*meany)/np.sqrt(n)\n",
    "    \n",
    "    return meanx,meany,std_y #putput: nbins rows, 3 col\n",
    "\n",
    "path='D:/5_Neutron Scattering/2_DMC_PSI_Sep2014__NdGdZrO/xu(data_PSI_Computer)/Gd2Zr2O7/'\n",
    "fname = os.path.join(path,'Gd_2k_1.dat')\n",
    "path='D:/5_Neutron Scattering/2_DMC_PSI_Sep2014__NdGdZrO/xu(data_PSI_Computer)/Nd2Zr2O7/'\n",
    "fname = os.path.join(path,'2.45_100mk.dat')\n",
    "data1=read_dmc(fname)\n",
    "print(data1,fname.replace('.dat','_colm.dat'))\n",
    "#np.savetxt(fname.replace('.dat','_colm.dat'),data1)"
   ]
  },
  {
   "cell_type": "code",
   "execution_count": 15,
   "metadata": {
    "collapsed": false,
    "jupyter": {
     "outputs_hidden": false
    }
   },
   "outputs": [
    {
     "name": "stdout",
     "output_type": "stream",
     "text": [
      "(2L, 3L)\n"
     ]
    },
    {
     "data": {
      "image/png": "[encoded data removed]",
      "text/plain": [
       "<matplotlib.figure.Figure at 0xaa59908>"
      ]
     },
     "metadata": {},
     "output_type": "display_data"
    }
   ],
   "source": [
    "# plot the FWHM function for Fullprof and Topas\n",
    "% matplotlib inline\n",
    "def fwhm(uvw, th):\n",
    "    width = uvw[0]*np.tan(th/180.*np.pi)**2+uvw[1]*np.tan(th/180.*np.pi)+uvw[2]\n",
    "    return width**0.5\n",
    "uvw = np.array([[0.085371, -0.213767, 0.201037],\n",
    "                [0.102, -0.26290, 0.44253]])\n",
    "print uvw.shape\n",
    "th = np.linspace(0.0,150.,num=1500, endpoint=False)/2\n",
    "width = fwhm(uvw[0,:],th)\n",
    "width1 = fwhm(uvw[1,:],th)\n",
    "plt.plot(th, width, th, width1)\n",
    "plt.minorticks_on()\n",
    "plt.show()"
   ]
  }
 ],
 "metadata": {
  "anaconda-cloud": {},
  "kernelspec": {
   "display_name": "Python 3",
   "language": "python",
   "name": "python3"
  },
  "language_info": {
   "codemirror_mode": {
    "name": "ipython",
    "version": 3
   },
   "file_extension": ".py",
   "mimetype": "text/x-python",
   "name": "python",
   "nbconvert_exporter": "python",
   "pygments_lexer": "ipython3",
   "version": "3.6.6"
  }
 },
 "nbformat": 4,
 "nbformat_minor": 4
}
