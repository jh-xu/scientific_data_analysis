{
 "cells": [
  {
   "cell_type": "code",
   "execution_count": 90,
   "metadata": {
    "collapsed": false,
    "jupyter": {
     "outputs_hidden": false
    }
   },
   "outputs": [],
   "source": [
    "from ivisual import *\n",
    "import numpy as np\n",
    "from numpy import linalg as LA\n",
    "\n",
    "import os\n",
    "import fnmatch\n",
    "from shutil import copyfile\n",
    "\n",
    "import matplotlib.mlab as mlab\n",
    "import matplotlib.pyplot as plt\n",
    "% matplotlib notebook\n",
    "\n",
    "# check to see if a row 'a' dim(1,m)is in the 'b' array dim(n by m)\n",
    "def inNd(a, b, assume_unique=False):\n",
    "    a = np.asarray(a, order='C')\n",
    "    b = np.asarray(b, order='C')\n",
    "    a = a.ravel().view((np.str, a.itemsize * b.shape[1]))# 6 elements per row\n",
    "    b = b.ravel().view((np.str, b.itemsize * b.shape[1]))\n",
    "    return np.in1d(a, b, assume_unique)\n",
    "\n",
    "def unique_rows(a):\n",
    "    a = np.ascontiguousarray(a)\n",
    "    unique_a = np.unique(a.view([('', a.dtype)]*a.shape[1]))\n",
    "    return unique_a.view(a.dtype).reshape((unique_a.shape[0], a.shape[1]))\n",
    "\n",
    "# Check if a row is in a array\n",
    "#https://stackoverflow.com/questions/14766194/testing-whether-a-numpy-array-contains-a-given-row\n",
    "\n",
    "import itertools"
   ]
  },
  {
   "cell_type": "code",
   "execution_count": 91,
   "metadata": {
    "collapsed": true,
    "jupyter": {
     "outputs_hidden": true
    }
   },
   "outputs": [
    {
     "name": "stdout",
     "output_type": "stream",
     "text": [
      "[[ 0.5   0.5   0.5 ]\n",
      " [ 0.5   0.25  0.25]\n",
      " [ 0.75  0.    0.25]\n",
      " [ 0.75  0.75  0.5 ]\n",
      " [ 0.25  0.5   0.25]\n",
      " [ 0.    0.75  0.25]\n",
      " [ 0.    0.    0.5 ]\n",
      " [ 0.25  0.25  0.5 ]\n",
      " [ 0.    0.5   0.  ]\n",
      " [ 0.    0.25  0.75]\n",
      " [ 0.25  0.    0.75]\n",
      " [ 0.25  0.75  0.  ]\n",
      " [ 0.75  0.5   0.75]\n",
      " [ 0.5   0.75  0.75]\n",
      " [ 0.5   0.    0.  ]\n",
      " [ 0.75  0.25  0.  ]] \n",
      "[[ 0.    0.    0.  ]\n",
      " [ 0.    0.75  0.75]\n",
      " [ 0.25  0.5   0.75]\n",
      " [ 0.25  0.25  0.  ]\n",
      " [ 0.75  0.    0.75]\n",
      " [ 0.5   0.25  0.75]\n",
      " [ 0.5   0.5   0.  ]\n",
      " [ 0.75  0.75  0.  ]\n",
      " [ 0.5   0.    0.5 ]\n",
      " [ 0.5   0.75  0.25]\n",
      " [ 0.75  0.5   0.25]\n",
      " [ 0.75  0.25  0.5 ]\n",
      " [ 0.25  0.    0.25]\n",
      " [ 0.    0.25  0.25]\n",
      " [ 0.    0.5   0.5 ]\n",
      " [ 0.25  0.75  0.5 ]]\n",
      "(32L, 3L)\n"
     ]
    }
   ],
   "source": [
    "# Load the Gd and Zr atom position in a unit cell\n",
    "fpath = r'D:\\9_Program files\\SpinVert\\gdzro_ill\\gd_ill_60mk-20k_with_paramag/'\n",
    "fname = 'gd_zr_pos.txt'# from SpinW\n",
    "\n",
    "at_pos = np.genfromtxt(os.path.join(fpath,fname)).T # 3 by 32: Gd Zr atom positions\n",
    "gdpos = at_pos[0:16,:]\n",
    "zrpos = at_pos[16:32,:]\n",
    "print gdpos,'\\n', zrpos\n",
    "print np.vstack({tuple(row) for row in at_pos}).shape # returen unique values, remoing the duplicated rows"
   ]
  },
  {
   "cell_type": "code",
   "execution_count": 147,
   "metadata": {
    "collapsed": false,
    "jupyter": {
     "outputs_hidden": false
    }
   },
   "outputs": [],
   "source": [
    "#　Ｐｌｏｔ　ｔｈｅ　ｕｎｉｔ　ｃｅｌｌ\n",
    "# scene1 = canvas(title='MagStr', width=500, height=500,x=500,y=500, center=(0,0,0),\n",
    "#                  background=color.black,exit=False)\n",
    "\n",
    "# spinl = 0.2; atomr = 0.5; cylr = 0.005\n",
    "# at_pos = np.subtract(at_pos,np.array([0.5,0.5,0.5]))\n",
    "# # Plot Gd \n",
    "# for i in range(16):\n",
    "#     pointer = sphere(pos=gdpos[i], color=color.red, radius=atomr*0.1)\n",
    "#     pointer = label(pos=gdpos[i]+(0,0,0.1), text=str(i%16))\n",
    "# # Plot Zr\n",
    "# for i in range(16):\n",
    "#     pointer = sphere(pos=zrpos[i], color=color.blue, radius=atomr*0.1)\n",
    "#     pointer = label(pos=zrpos[i]+(0,0,0.1), text=str(i%16))\n",
    "    \n",
    "# scene1.lights = []\n",
    "# scene1.ambient=2"
   ]
  },
  {
   "cell_type": "code",
   "execution_count": 92,
   "metadata": {
    "collapsed": true,
    "jupyter": {
     "outputs_hidden": true
    }
   },
   "outputs": [
    {
     "name": "stdout",
     "output_type": "stream",
     "text": [
      "[[-1.   -1.   -1.    0.    0.    0.  ]\n",
      " [-1.   -1.   -1.    0.    0.75  0.75]\n",
      " [-1.   -1.   -1.    0.25  0.5   0.75]\n",
      " ..., \n",
      " [ 1.    1.    1.    0.    0.25  0.25]\n",
      " [ 1.    1.    1.    0.    0.5   0.5 ]\n",
      " [ 1.    1.    1.    0.25  0.75  0.5 ]]\n"
     ]
    },
    {
     "data": {
      "text/plain": [
       "array([[  0.  ,  18.  ,   0.  ,   0.  ,   0.  ,   0.25,   0.5 ,   0.75],\n",
       "       [  0.  ,  21.  ,   0.  ,   0.  ,   0.  ,   0.5 ,   0.25,   0.75],\n",
       "       [  0.  ,  25.  ,   0.  ,   0.  ,   0.  ,   0.5 ,   0.75,   0.25],\n",
       "       [  0.  ,  26.  ,   0.  ,   0.  ,   0.  ,   0.75,   0.5 ,   0.25],\n",
       "       [  0.  ,  27.  ,   0.  ,   0.  ,   0.  ,   0.75,   0.25,   0.5 ],\n",
       "       [  0.  ,  31.  ,   0.  ,   0.  ,   0.  ,   0.25,   0.75,   0.5 ],\n",
       "       [  1.  ,  19.  ,   0.  ,   0.  ,   0.  ,   0.25,   0.25,   0.  ],\n",
       "       [  1.  ,  22.  ,   0.  ,   0.  ,   0.  ,   0.5 ,   0.5 ,   0.  ],\n",
       "       [  1.  ,  24.  ,   0.  ,   0.  ,   0.  ,   0.5 ,   0.  ,   0.5 ],\n",
       "       [  1.  ,  26.  ,   0.  ,   0.  ,   0.  ,   0.75,   0.5 ,   0.25],\n",
       "       [  1.  ,  27.  ,   0.  ,   0.  ,   0.  ,   0.75,   0.25,   0.5 ],\n",
       "       [  1.  ,  28.  ,   0.  ,   0.  ,   0.  ,   0.25,   0.  ,   0.25],\n",
       "       [  2.  ,  23.  ,   0.  ,  -1.  ,   0.  ,   0.75,   0.75,   0.  ],\n",
       "       [  2.  ,  25.  ,   0.  ,  -1.  ,   0.  ,   0.5 ,   0.75,   0.25],\n",
       "       [  2.  ,  24.  ,   0.  ,   0.  ,   0.  ,   0.5 ,   0.  ,   0.5 ],\n",
       "       [  2.  ,  27.  ,   0.  ,   0.  ,   0.  ,   0.75,   0.25,   0.5 ],\n",
       "       [  2.  ,  16.  ,   1.  ,   0.  ,   0.  ,   0.  ,   0.  ,   0.  ],\n",
       "       [  2.  ,  29.  ,   1.  ,   0.  ,   0.  ,   0.  ,   0.25,   0.25],\n",
       "       [  3.  ,  25.  ,   0.  ,   0.  ,   0.  ,   0.5 ,   0.75,   0.25],\n",
       "       [  3.  ,  26.  ,   0.  ,   0.  ,   0.  ,   0.75,   0.5 ,   0.25],\n",
       "       [  3.  ,  20.  ,   0.  ,   1.  ,   0.  ,   0.75,   0.  ,   0.75],\n",
       "       [  3.  ,  24.  ,   0.  ,   1.  ,   0.  ,   0.5 ,   0.  ,   0.5 ],\n",
       "       [  3.  ,  17.  ,   1.  ,   0.  ,   0.  ,   0.  ,   0.75,   0.75],\n",
       "       [  3.  ,  30.  ,   1.  ,   0.  ,   0.  ,   0.  ,   0.5 ,   0.5 ],\n",
       "       [  4.  ,  19.  ,   0.  ,   0.  ,   0.  ,   0.25,   0.25,   0.  ],\n",
       "       [  4.  ,  22.  ,   0.  ,   0.  ,   0.  ,   0.5 ,   0.5 ,   0.  ],\n",
       "       [  4.  ,  25.  ,   0.  ,   0.  ,   0.  ,   0.5 ,   0.75,   0.25],\n",
       "       [  4.  ,  29.  ,   0.  ,   0.  ,   0.  ,   0.  ,   0.25,   0.25],\n",
       "       [  4.  ,  30.  ,   0.  ,   0.  ,   0.  ,   0.  ,   0.5 ,   0.5 ],\n",
       "       [  4.  ,  31.  ,   0.  ,   0.  ,   0.  ,   0.25,   0.75,   0.5 ],\n",
       "       [  5.  ,  23.  ,  -1.  ,   0.  ,   0.  ,   0.75,   0.75,   0.  ],\n",
       "       [  5.  ,  26.  ,  -1.  ,   0.  ,   0.  ,   0.75,   0.5 ,   0.25],\n",
       "       [  5.  ,  30.  ,   0.  ,   0.  ,   0.  ,   0.  ,   0.5 ,   0.5 ],\n",
       "       [  5.  ,  31.  ,   0.  ,   0.  ,   0.  ,   0.25,   0.75,   0.5 ],\n",
       "       [  5.  ,  16.  ,   0.  ,   1.  ,   0.  ,   0.  ,   0.  ,   0.  ],\n",
       "       [  5.  ,  28.  ,   0.  ,   1.  ,   0.  ,   0.25,   0.  ,   0.25],\n",
       "       [  6.  ,  20.  ,  -1.  ,   0.  ,   0.  ,   0.75,   0.  ,   0.75],\n",
       "       [  6.  ,  27.  ,  -1.  ,   0.  ,   0.  ,   0.75,   0.25,   0.5 ],\n",
       "       [  6.  ,  17.  ,   0.  ,  -1.  ,   0.  ,   0.  ,   0.75,   0.75],\n",
       "       [  6.  ,  31.  ,   0.  ,  -1.  ,   0.  ,   0.25,   0.75,   0.5 ],\n",
       "       [  6.  ,  28.  ,   0.  ,   0.  ,   0.  ,   0.25,   0.  ,   0.25],\n",
       "       [  6.  ,  29.  ,   0.  ,   0.  ,   0.  ,   0.  ,   0.25,   0.25],\n",
       "       [  7.  ,  18.  ,   0.  ,   0.  ,   0.  ,   0.25,   0.5 ,   0.75],\n",
       "       [  7.  ,  21.  ,   0.  ,   0.  ,   0.  ,   0.5 ,   0.25,   0.75],\n",
       "       [  7.  ,  24.  ,   0.  ,   0.  ,   0.  ,   0.5 ,   0.  ,   0.5 ],\n",
       "       [  7.  ,  28.  ,   0.  ,   0.  ,   0.  ,   0.25,   0.  ,   0.25],\n",
       "       [  7.  ,  29.  ,   0.  ,   0.  ,   0.  ,   0.  ,   0.25,   0.25],\n",
       "       [  7.  ,  30.  ,   0.  ,   0.  ,   0.  ,   0.  ,   0.5 ,   0.5 ],\n",
       "       [  8.  ,  23.  ,  -1.  ,   0.  ,   0.  ,   0.75,   0.75,   0.  ],\n",
       "       [  8.  ,  26.  ,  -1.  ,   0.  ,   0.  ,   0.75,   0.5 ,   0.25],\n",
       "       [  8.  ,  17.  ,   0.  ,   0.  ,  -1.  ,   0.  ,   0.75,   0.75],\n",
       "       [  8.  ,  18.  ,   0.  ,   0.  ,  -1.  ,   0.25,   0.5 ,   0.75],\n",
       "       [  8.  ,  19.  ,   0.  ,   0.  ,   0.  ,   0.25,   0.25,   0.  ],\n",
       "       [  8.  ,  29.  ,   0.  ,   0.  ,   0.  ,   0.  ,   0.25,   0.25],\n",
       "       [  9.  ,  20.  ,  -1.  ,   0.  ,   0.  ,   0.75,   0.  ,   0.75],\n",
       "       [  9.  ,  27.  ,  -1.  ,   0.  ,   0.  ,   0.75,   0.25,   0.5 ],\n",
       "       [  9.  ,  18.  ,   0.  ,   0.  ,   0.  ,   0.25,   0.5 ,   0.75],\n",
       "       [  9.  ,  30.  ,   0.  ,   0.  ,   0.  ,   0.  ,   0.5 ,   0.5 ],\n",
       "       [  9.  ,  16.  ,   0.  ,   0.  ,   1.  ,   0.  ,   0.  ,   0.  ],\n",
       "       [  9.  ,  19.  ,   0.  ,   0.  ,   1.  ,   0.25,   0.25,   0.  ],\n",
       "       [ 10.  ,  17.  ,   0.  ,  -1.  ,   0.  ,   0.  ,   0.75,   0.75],\n",
       "       [ 10.  ,  31.  ,   0.  ,  -1.  ,   0.  ,   0.25,   0.75,   0.5 ],\n",
       "       [ 10.  ,  21.  ,   0.  ,   0.  ,   0.  ,   0.5 ,   0.25,   0.75],\n",
       "       [ 10.  ,  24.  ,   0.  ,   0.  ,   0.  ,   0.5 ,   0.  ,   0.5 ],\n",
       "       [ 10.  ,  16.  ,   0.  ,   0.  ,   1.  ,   0.  ,   0.  ,   0.  ],\n",
       "       [ 10.  ,  19.  ,   0.  ,   0.  ,   1.  ,   0.25,   0.25,   0.  ],\n",
       "       [ 11.  ,  17.  ,   0.  ,   0.  ,  -1.  ,   0.  ,   0.75,   0.75],\n",
       "       [ 11.  ,  18.  ,   0.  ,   0.  ,  -1.  ,   0.25,   0.5 ,   0.75],\n",
       "       [ 11.  ,  22.  ,   0.  ,   0.  ,   0.  ,   0.5 ,   0.5 ,   0.  ],\n",
       "       [ 11.  ,  25.  ,   0.  ,   0.  ,   0.  ,   0.5 ,   0.75,   0.25],\n",
       "       [ 11.  ,  16.  ,   0.  ,   1.  ,   0.  ,   0.  ,   0.  ,   0.  ],\n",
       "       [ 11.  ,  28.  ,   0.  ,   1.  ,   0.  ,   0.25,   0.  ,   0.25],\n",
       "       [ 12.  ,  21.  ,   0.  ,   0.  ,   0.  ,   0.5 ,   0.25,   0.75],\n",
       "       [ 12.  ,  27.  ,   0.  ,   0.  ,   0.  ,   0.75,   0.25,   0.5 ],\n",
       "       [ 12.  ,  22.  ,   0.  ,   0.  ,   1.  ,   0.5 ,   0.5 ,   0.  ],\n",
       "       [ 12.  ,  23.  ,   0.  ,   0.  ,   1.  ,   0.75,   0.75,   0.  ],\n",
       "       [ 12.  ,  17.  ,   1.  ,   0.  ,   0.  ,   0.  ,   0.75,   0.75],\n",
       "       [ 12.  ,  30.  ,   1.  ,   0.  ,   0.  ,   0.  ,   0.5 ,   0.5 ],\n",
       "       [ 13.  ,  18.  ,   0.  ,   0.  ,   0.  ,   0.25,   0.5 ,   0.75],\n",
       "       [ 13.  ,  31.  ,   0.  ,   0.  ,   0.  ,   0.25,   0.75,   0.5 ],\n",
       "       [ 13.  ,  22.  ,   0.  ,   0.  ,   1.  ,   0.5 ,   0.5 ,   0.  ],\n",
       "       [ 13.  ,  23.  ,   0.  ,   0.  ,   1.  ,   0.75,   0.75,   0.  ],\n",
       "       [ 13.  ,  20.  ,   0.  ,   1.  ,   0.  ,   0.75,   0.  ,   0.75],\n",
       "       [ 13.  ,  24.  ,   0.  ,   1.  ,   0.  ,   0.5 ,   0.  ,   0.5 ],\n",
       "       [ 14.  ,  23.  ,   0.  ,  -1.  ,   0.  ,   0.75,   0.75,   0.  ],\n",
       "       [ 14.  ,  25.  ,   0.  ,  -1.  ,   0.  ,   0.5 ,   0.75,   0.25],\n",
       "       [ 14.  ,  20.  ,   0.  ,   0.  ,  -1.  ,   0.75,   0.  ,   0.75],\n",
       "       [ 14.  ,  21.  ,   0.  ,   0.  ,  -1.  ,   0.5 ,   0.25,   0.75],\n",
       "       [ 14.  ,  19.  ,   0.  ,   0.  ,   0.  ,   0.25,   0.25,   0.  ],\n",
       "       [ 14.  ,  28.  ,   0.  ,   0.  ,   0.  ,   0.25,   0.  ,   0.25],\n",
       "       [ 15.  ,  20.  ,   0.  ,   0.  ,  -1.  ,   0.75,   0.  ,   0.75],\n",
       "       [ 15.  ,  21.  ,   0.  ,   0.  ,  -1.  ,   0.5 ,   0.25,   0.75],\n",
       "       [ 15.  ,  22.  ,   0.  ,   0.  ,   0.  ,   0.5 ,   0.5 ,   0.  ],\n",
       "       [ 15.  ,  26.  ,   0.  ,   0.  ,   0.  ,   0.75,   0.5 ,   0.25],\n",
       "       [ 15.  ,  16.  ,   1.  ,   0.  ,   0.  ,   0.  ,   0.  ,   0.  ],\n",
       "       [ 15.  ,  29.  ,   1.  ,   0.  ,   0.  ,   0.  ,   0.25,   0.25]])"
      ]
     },
     "execution_count": 92,
     "metadata": {},
     "output_type": "execute_result"
    }
   ],
   "source": [
    "# Ｆｉｎｄ　ｔｈｅ　ｂｏｎｄｓ\n",
    "# Generate 333 supercell for searching the Gd-Zr bond for Gd in the center unit cell\n",
    "sc3zr = np.zeros([16*3**3,6]) # cell x,y,z, atom x, y, z\n",
    "#sc333_r = np.array([16*3**3,3])\n",
    "idx = 0\n",
    "for i in [-1,0,1]:\n",
    "    for j in [-1,0,1]:\n",
    "        for k in [-1,0,1]:\n",
    "            for l in np.arange(0,16):\n",
    "                sc3zr[idx,:] = np.hstack((np.array([i,j,k]),zrpos[l,:]))\n",
    "                idx = idx + 1\n",
    "                \n",
    "print sc3zr\n",
    "\n",
    "##### Find the Gd-Zr bonds includeing the surroundings\n",
    "# bonds = np.empty((0,6)) #store the 30 bonds in the unitCell: atom1,atom2,pos[a2]-pos[a1]\n",
    "# idx = 0\n",
    "# zrp_sc3 = sc3[:,0:3]+sc3[:,3:6] # Zr atom positions in the 333 sCell\n",
    "# gd_zr_dist = np.sqrt(2)/4\n",
    "# for i in np.arange(0,16,1):# iter Gd atoms in the central unit cell in the 333 supercell\n",
    "#     for ii in np.arange(0,16*3**3,1):# iter Zr atoms in the 333 supercell     \n",
    "#         dist = LA.norm(zrp_sc3[ii]-gdp[i])\n",
    "#         if dist==gd_zr_dist:\n",
    "#Problem here             bonds = np.append(bonds, [np.vstack([np.array([i]).reshape([1,1]), sc3[ii,:3],zrp_sc3[ii]-gdp[i]])],axis=0) \n",
    "                                                        # Gdidx,  Zrpos L,  r\n",
    "#             idx +=1\n",
    "# print bonds\n",
    "\n",
    "bonds = [] #store the bons 8 cols: atom1,atom2, Zr pos: cell xyz, site xyz\n",
    "zrp_sc3 = sc3zr[:,0:3]+sc3zr[:,3:6]# abusolute Zr pos in the super cell\n",
    "gd_zr_dist = np.sqrt(2)/4 #nearest neighbor distance\n",
    "for i in np.arange(0,16,1):# iter Gd atoms in the central unit cell of the 333 supercell\n",
    "    for ii in np.arange(0,16*3**3,1):# iter Zr atoms in the 333 supercell     \n",
    "        dist = LA.norm(zrp_sc3[ii]-gdp[i])\n",
    "        if dist==gd_zr_dist:\n",
    "            bonds.append(np.concatenate([np.array([i,ii%16+16]).T, sc3zr[ii,:]])) # GdIdx, ZrIdx ZrPos L, r\n",
    "\n",
    "bonds = np.asarray(bonds)\n",
    "bonds"
   ]
  },
  {
   "cell_type": "code",
   "execution_count": 94,
   "metadata": {
    "collapsed": false,
    "jupyter": {
     "outputs_hidden": false
    }
   },
   "outputs": [],
   "source": [
    "# Ｐｌｏｔ　ｔｈｅ　３３３ｓｕｐｅｒｃｅｌｌ　ａｎｄ　ｔｈｅ　ｂｏｎｄ\n",
    "# scene1 = canvas(title='MagStr', width=800, height=800,x=500,y=500, center=(0,0,0),\n",
    "#                  background=color.black,exit=False)\n",
    "\n",
    "# spinl = 0.2; atomr = 0.5; cylr = 0.005\n",
    "# #at_pos = np.subtract(at_pos,np.array([0.5,0.5,0.5]))\n",
    "# # Plot Gd \n",
    "# for i in range(16):\n",
    "#     pointer = sphere(pos=gdpos[i], color=color.red, radius=atomr*0.1)\n",
    "#     pointer = label(pos=gdpos[i]+(0,0,0.1), text=str(i%16))\n",
    "# # Plot Zr\n",
    "# for i in range(16*3**3):\n",
    "#     pointer = sphere(pos=zrp_sc3[i], color=color.blue, radius=atomr*0.1)\n",
    "#     #pointer = label(pos=zrp_sc3[i]+(0,0,0.1), text=str(i%16))\n",
    "# # Plot bonds\n",
    "# bondsV = bonds[:,2:5]+bonds[:,5:8]  \n",
    "# for i in xrange(bonds.shape[0]):\n",
    "#     pointer = cylinder(pos=gdpos[np.int(bonds[i,0])], axis=bondsV[i,:]-gdpos[np.int(bonds[i,0])],\n",
    "#                        radius=cylr, materials=materials.wood)# Gdpos, Zrpos-Gdpos\n",
    "    \n",
    "# scene1.lights = []\n",
    "# scene1.ambient=2"
   ]
  },
  {
   "cell_type": "code",
   "execution_count": 95,
   "metadata": {
    "collapsed": false,
    "jupyter": {
     "outputs_hidden": false
    }
   },
   "outputs": [
    {
     "name": "stdout",
     "output_type": "stream",
     "text": [
      "(3456L, 7L)\n",
      "915 823 692\n"
     ]
    }
   ],
   "source": [
    "# Ｇｅｎｅｒａｔｅ　ｔｈｅ　６６６ｓｕｐｅｒｃｅｌｌ　ｗｉｔｈ　ａｎｔｉｓｉｔｅ　ｄｅｆｅｃｔｓ\n",
    "#it is antsite defects, total nb of atoms is not changed\n",
    "sc6 = np.zeros([16*6**3,7]) # atIdx0-32, cell index x,y,z, atom index x, y, z\n",
    "idx = 0\n",
    "for i in xrange(6):\n",
    "    for j in xrange(6):\n",
    "        for k in xrange(6):\n",
    "            for l in np.arange(0,16):\n",
    "                sc6[idx,:] = np.hstack((np.array([l,i,j,k]),gdpos[l,:]))\n",
    "                idx = idx + 1\n",
    "                \n",
    "print sc6.shape\n",
    "\n",
    "\n",
    "# Generate antisite disorder\n",
    "# Randomly select cell and Gd atom in the super cell\n",
    "mix = 0.2 # how much defects 20%\n",
    "idxMoved = [] # store the index (0-3456) of the Gd atoms which is moved\n",
    "gd_moved = np.empty([0,8])# atomID(0-3456), atomIdx(0-16), cell x y z, atom x y z\n",
    "zr_occupied = np.empty([0,7]) # idx(16-31),cell x y z, atom x y z\n",
    "idx = 0# total nb of trys of moving Gd\n",
    "iidx = 0# unique trys of moving Gd\n",
    "iiidx = 0# succussed to moved to an unoccupied Zr pos\n",
    "\n",
    "while iiidx<=int(3456*mix):\n",
    "    whichAt = np.random.randint(3456, size=1)# which atom to move\n",
    "    idx = idx + 1\n",
    "    if ~np.in1d(whichAt,gd_moved[:,0]): # if not been moved before\n",
    "        iidx = iidx + 1\n",
    "        whichAtIdx = whichAt%16 # the atom idx 1-16 in a unit cell\n",
    "        BondsAt = bonds[bonds[:,0]==whichAtIdx,:]#the Zr pos that the Gd atom in the [000] unite cell connects: cell xyz, xyz\n",
    "\n",
    "        whichB = np.random.randint(6, size=1)# move to which Zr pos\n",
    "        #print whichB, BondsAt[whichB,1:],sc6[whichAt,:]\n",
    "        #zrTry = np.ravel(sc6[whichAt,:]+BondsAt[whichB,1:]) # wrong !!!!\n",
    "        zrCell = np.ravel(sc6[whichAt,1:4]+BondsAt[whichB,2:5]) # move to this cell\n",
    "        if sum(zrCell==-1)|sum(zrCell==6): # not allow moved out of the super cell\n",
    "            #print zrCell\n",
    "            continue\n",
    "        #zrCell[zrCell==-1]=5; zrCell[zrCell==6]=0 # poriodic boundary\n",
    "        zrTry = np.hstack((BondsAt[whichB,1].reshape([1,1]), zrCell.reshape([1,3]),\n",
    "                           BondsAt[whichB,5:8])).ravel() # move to this Zr pos: atIdx0-32,xyz,xyz\n",
    "        #print 'zrTry',zrTry\n",
    "        if ~inNd(zrTry,zr_occupied):# if the Zr pos not occupied\n",
    "            gd_moved = np.append(gd_moved, np.hstack((np.array([whichAt,whichAtIdx]).T, sc6[whichAt,1:])),axis=0) \n",
    "                        # record the moved Gd: atomID, atom idx, cell xyz, atom xyz\n",
    "            zr_occupied= np.append(zr_occupied, [zrTry],axis=0)# record the occupied Zr pos\n",
    "            sc6[whichAt,:] = zrTry # move\n",
    "            idxMoved.append(whichAt)\n",
    "            iiidx = iiidx+1\n",
    "            \n",
    "\n",
    "sc6[:,0]=sc6[:,0]+1\n",
    "\n",
    "#print gd_moved, '\\n', zr_occupied\n",
    "#print sc6[idxMoved,:]\n",
    "print idx,iidx,iiidx\n",
    "#print np.asarray(idxMoved)"
   ]
  },
  {
   "cell_type": "code",
   "execution_count": 96,
   "metadata": {
    "collapsed": true,
    "jupyter": {
     "outputs_hidden": true
    }
   },
   "outputs": [
    {
     "data": {
      "text/html": [
       "<div id=\"scene5\"><div id=\"glowscript\" class=\"glowscript\"></div></div>"
      ],
      "text/plain": [
       "<IPython.core.display.HTML object>"
      ]
     },
     "metadata": {},
     "output_type": "display_data"
    },
    {
     "data": {
      "application/javascript": [
       "window.__context = { glowscript_container: $(\"#glowscript\").removeAttr(\"id\")}"
      ],
      "text/plain": [
       "<IPython.core.display.Javascript object>"
      ]
     },
     "metadata": {},
     "output_type": "display_data"
    },
    {
     "name": "stdout",
     "output_type": "stream",
     "text": [
      "[ True  True  True  True  True  True  True  True  True  True  True  True\n",
      "  True  True  True  True  True  True  True  True  True  True  True  True\n",
      "  True  True  True  True  True  True  True  True  True  True  True  True\n",
      "  True  True  True  True  True  True  True  True  True  True  True  True\n",
      "  True  True  True  True  True  True  True  True  True  True  True  True\n",
      "  True  True  True  True  True  True  True  True  True  True  True  True\n",
      "  True  True  True  True  True  True  True  True  True  True  True  True\n",
      "  True  True  True  True  True  True  True  True  True  True  True  True\n",
      "  True  True  True  True  True  True  True  True  True  True  True  True\n",
      "  True  True  True  True  True  True  True  True  True  True  True  True\n",
      "  True  True  True  True  True  True  True  True  True  True  True  True\n",
      "  True  True  True  True  True  True  True  True  True  True  True  True\n",
      "  True  True  True  True  True  True  True  True  True  True  True  True\n",
      "  True  True  True  True  True  True  True  True  True  True  True  True\n",
      "  True  True  True  True  True  True  True  True  True  True  True  True\n",
      "  True  True  True  True  True  True  True  True  True  True  True  True\n",
      "  True  True  True  True  True  True  True  True  True  True  True  True\n",
      "  True  True  True  True  True  True  True  True  True  True  True  True\n",
      "  True  True  True  True  True  True  True  True  True  True  True  True\n",
      "  True  True  True  True  True  True  True  True  True  True  True  True\n",
      "  True  True  True  True  True  True  True  True  True  True  True  True\n",
      "  True  True  True  True  True  True  True  True  True  True  True  True\n",
      "  True  True  True  True  True  True  True  True  True  True  True  True\n",
      "  True  True  True  True  True  True  True  True  True  True  True  True\n",
      "  True  True  True  True  True  True  True  True  True  True  True  True\n",
      "  True  True  True  True  True  True  True  True  True  True  True  True\n",
      "  True  True  True  True  True  True  True  True  True  True  True  True\n",
      "  True  True  True  True  True  True  True  True  True  True  True  True\n",
      "  True  True  True  True  True  True  True  True  True  True  True  True\n",
      "  True  True  True  True  True  True  True  True  True  True  True  True\n",
      "  True  True  True  True  True  True  True  True  True  True  True  True\n",
      "  True  True  True  True  True  True  True  True  True  True  True  True\n",
      "  True  True  True  True  True  True  True  True  True  True  True  True\n",
      "  True  True  True  True  True  True  True  True  True  True  True  True\n",
      "  True  True  True  True  True  True  True  True  True  True  True  True\n",
      "  True  True  True  True  True  True  True  True  True  True  True  True\n",
      "  True  True  True  True  True  True  True  True  True  True  True  True\n",
      "  True  True  True  True  True  True  True  True  True  True  True  True\n",
      "  True  True  True  True  True  True  True  True  True  True  True  True\n",
      "  True  True  True  True  True  True  True  True  True  True  True  True\n",
      "  True  True  True  True  True  True  True  True  True  True  True  True\n",
      "  True  True  True  True  True  True  True  True  True  True  True  True\n",
      "  True  True  True  True  True  True  True  True  True  True  True  True\n",
      "  True  True  True  True  True  True  True  True  True  True  True  True\n",
      "  True  True  True  True  True  True  True  True  True  True  True  True\n",
      "  True  True  True  True  True  True  True  True  True  True  True  True\n",
      "  True  True  True  True  True  True  True  True  True  True  True  True\n",
      "  True  True  True  True  True  True  True  True  True  True  True  True\n",
      "  True  True  True  True  True  True  True  True  True  True  True  True\n",
      "  True  True  True  True  True  True  True  True  True  True  True  True\n",
      "  True  True  True  True  True  True  True  True  True  True  True  True\n",
      "  True  True  True  True  True  True  True  True  True  True  True  True\n",
      "  True  True  True  True  True  True  True  True  True  True  True  True\n",
      "  True  True  True  True  True  True  True  True  True  True  True  True\n",
      "  True  True  True  True  True  True  True  True  True  True  True  True\n",
      "  True  True  True  True  True  True  True  True  True  True  True  True\n",
      "  True  True  True  True  True  True  True  True  True  True  True  True\n",
      "  True  True  True  True  True  True  True  True]\n"
     ]
    }
   ],
   "source": [
    "# Ｐｌｏｔ　ｔｈｅ　ａｎｔｉｓｉｔｅ　ｄｉｆｅｃｔｓ　ｉｎ　ｓｕｐｅｒｃｅｌｌ　ａｎｄ　ｔｈｅｉｒ　ｂｏｎｄｓ\n",
    "scene1 = canvas(title='MagStr', width=800, height=800,x=500,y=500, center=(0,0,0),\n",
    "                 background=color.black,exit=False)\n",
    "\n",
    "spinl = 0.2; atomr = 0.5; cylr = 0.005\n",
    "#at_pos = np.subtract(at_pos,np.array([0.5,0.5,0.5]))\n",
    "# Plot Gd \n",
    "gdpos = gd_moved[:,2:5]+gd_moved[:,5:8]-np.array([3,3,3])\n",
    "for i in xrange(iiidx):\n",
    "    pointer = sphere(pos=gdpos[i], color=color.red, radius=atomr*0.1)\n",
    "    #pointer = label(pos=gdpos[i]+(0,0,0.1), text=str(i%16))\n",
    "# Plot Zr\n",
    "zrpos = zr_occupied[:,1:4]+zr_occupied[:,4:7]-np.array([3,3,3])\n",
    "for i in range(iiidx):\n",
    "    pointer = sphere(pos=zrpos[i], color=color.blue, radius=atomr*0.1)\n",
    "    #pointer = label(pos=zrp_sc3[i]+(0,0,0.1), text=str(i%16))\n",
    "# Plot bonds\n",
    "for i in xrange(iiidx):\n",
    "    pointer = cylinder(pos=gdpos[i], axis=zrpos[i]-gdpos[i],\n",
    "                       radius=cylr, materials=materials.wood)# Gdpos, Zrpos-Gdpos\n",
    "\n",
    "print LA.norm(zrpos-gdpos,axis=1)==np.sqrt(2.0)/4\n",
    "    \n",
    "scene1.lights = []\n",
    "scene1.ambient=2"
   ]
  },
  {
   "cell_type": "code",
   "execution_count": 97,
   "metadata": {
    "collapsed": false,
    "jupyter": {
     "outputs_hidden": false
    }
   },
   "outputs": [
    {
     "name": "stdout",
     "output_type": "stream",
     "text": [
      "[[1 1 1 1 1 0]\n",
      " [0 1 1 1 0 0]\n",
      " [1 1 1 0 0 0]]\n",
      "(3456L, 7L)\n"
     ]
    }
   ],
   "source": [
    "# Check unique\n",
    "a = np.array([[1, 1, 1, 0, 0, 0],\n",
    "       [0, 1, 1, 1, 0, 0],\n",
    "       [0, 1, 1, 1, 0, 0],\n",
    "       [1, 1, 1, 0, 0, 0],\n",
    "       [1, 1, 1, 1, 1, 0]])\n",
    "print np.vstack({tuple(row) for row in a})\n",
    "#print np.unique(sc6)\n",
    "print np.vstack({tuple(row) for row in sc6}).shape"
   ]
  },
  {
   "cell_type": "code",
   "execution_count": 98,
   "metadata": {
    "collapsed": false,
    "jupyter": {
     "outputs_hidden": false
    }
   },
   "outputs": [],
   "source": [
    "# Save\n",
    "path = r'D:\\9_Program files\\SpinVert\\gdzro_ill\\gd_ill_60mk-20k_with_paramag\\0a.txt'\n",
    "\n",
    "# first save site\n",
    "names  = np.repeat('SITE',32)\n",
    "allnn = np.column_stack([names,at_pos]) #nb = np.char.mod(\"%4.2f\", at_pos)\n",
    "#print allnn\n",
    "np.savetxt(path,allnn, fmt=\"%s\") # workings\n",
    "\n",
    "# second save super lattice with nearest neighbor antisite disorder \n",
    "f = open(path, 'a') # append\n",
    "names  = np.repeat('SPIN',3456).astype('str')\n",
    "outputs = map(lambda x: \"%s %i %i %i %i %f %f %f \" % (x[0],x[1][0],x[1][1],x[1][2],x[1][3],x[1][4],x[1][5],x[1][6]),\n",
    "              zip(names, sc6)) \n",
    "data = '\\n'.join(outputs) # Concat all strings in list, separated by line break\n",
    "f.write(data)\n",
    "f.close()\n",
    "\n",
    "\n",
    "\n",
    "# working but TXT can not see \\n only notepad can but Spinvert can not read correctly\n",
    "# f = open(path, 'wb')\n",
    "# for i in range(32):\n",
    "#     f.write(\"%s %5.2f %5.2f %5.2f \\n\" % ('SITE',at_pos[i,0], at_pos[i,1],at_pos[i,2]))\n",
    "# for item in sc6:\n",
    "#     f.write(\"%s %i %i %i %i %5.2f %5.2f %5.2f \\n\" % ('SPIN',item[0],item[1],item[2],item[3],\n",
    "#                                                               item[4],item[5],item[6]))\n",
    "# f.close()\n",
    "\n",
    "# working but writing zero as 0. not 0.0\n",
    "# f = open(path, 'w')\n",
    "# for i in gdpos:\n",
    "#     f.write('SITE %s\\n'%str(i)[1:-1]);# 1:-1 for removing brackests \n",
    "# f.close()  \n",
    "# np.savetxt(path, zip(names,at_pos[:,0],at_pos[:,1],at_pos[:,2]), fmt=\"%s, %5.2f, %5.2f, %5.2f\")# %s problem\n",
    "\n",
    "# dtype of 'names' is not compatable with %s\n",
    "# names  = np.repeat('SITE',32)\n",
    "# with open(path,'wb') as f:\n",
    "#     np.savetxt(f,zip(names,at_pos[:,0],at_pos[:,1],at_pos[:,2]), fmt=\"%5s %10.3f %10.3f %10.3f\")\n",
    "\n",
    "# names  = np.repeat('SPIN',3456)\n",
    "# allnn = np.column_stack([names,sc6])\n",
    "# with open(path,'a') as f_handle: # append\n",
    "#     np.savetxt(f_handle,allnn,fmt='%s %i %f %f %f %f %f %f') #%s problem\n",
    "\n",
    "# not working\n",
    "# ab = np.zeros([32,], dtype=[('var1', 'S6'), ('', float),('', float),('', float)])\n",
    "# ab['var1'] = names\n",
    "# ab[:] = at_pos\n",
    "# np.savetxt(path, ab, fmt=\"%10s %10.3f\")\n"
   ]
  },
  {
   "cell_type": "code",
   "execution_count": 99,
   "metadata": {
    "collapsed": false,
    "jupyter": {
     "outputs_hidden": false
    }
   },
   "outputs": [
    {
     "name": "stdout",
     "output_type": "stream",
     "text": [
      "10k_0p994_s3_wl2p41_p3500i_spins_01.txt\n",
      "3456 spins copied\n",
      "10k_0p994_s3_wl2p41_p3500i_spins_02.txt\n",
      "3456 spins copied\n",
      "10k_0p994_s3_wl2p41_p3500i_spins_03.txt\n",
      "3456 spins copied\n",
      "10k_0p994_s3_wl2p41_p3500i_spins_04.txt\n",
      "3456 spins copied\n",
      "10k_0p994_s3_wl2p41_p3500i_spins_05.txt\n",
      "3456 spins copied\n",
      "10k_0p994_s3_wl2p41_p3500i_spins_06.txt\n",
      "3456 spins copied\n",
      "10k_0p994_s3_wl2p41_p3500i_spins_07.txt\n",
      "3456 spins copied\n",
      "10k_0p994_s3_wl2p41_p3500i_spins_08.txt\n",
      "3456 spins copied\n",
      "10k_0p994_s3_wl2p41_p3500i_spins_09.txt\n",
      "3456 spins copied\n",
      "10k_0p994_s3_wl2p41_p3500i_spins_10.txt\n",
      "3456 spins copied\n"
     ]
    }
   ],
   "source": [
    "# Process the output of Spinvet: fill 'spins.txt' to be including 32 sites with spin zero at the empty sites\n",
    "# For spindiff calcuation\n",
    "fpath = r'D:\\9_Program files\\SpinVert\\0_spinvert_program\\spinvert_with_modifed\\programs\\1st_supercell_defects'\n",
    "fname = '10k_0p994_s3_wl2p41_p3500i_spins_*.txt'\n",
    "\n",
    "# Build the supercell&spins: atIdx(1-32), cell xyz, spin xyz\n",
    "atIdxes = np.repeat([np.arange(1,33)],6**3,axis=0).ravel().reshape([-1,1])#1,2,3...31,32, 1,2,3....\n",
    "\n",
    "scIdxes=list(itertools.product([0,1,2,3,4,5], repeat=3))\n",
    "scIdxes = np.repeat(scIdxes,32, axis=0).reshape([-1,3])#000,000,.... 001,001\n",
    "\n",
    "new_s = np.hstack((  atIdxes,scIdxes,np.zeros([32*6**3,3]) ))\n",
    "names  = np.repeat('SPIN',32*6**3).astype('str')\n",
    "\n",
    "ii=0 #index for different files\n",
    "idx = 0\n",
    "for file in os.listdir(fpath):\n",
    "    if fnmatch.fnmatch(file, fname):      \n",
    "        print(file)\n",
    "        filepath = os.path.join(fpath,file)\n",
    "        out_s = np.genfromtxt(filepath, skip_header=44,usecols=[1,2,3,4,5,6,7]) # 3 by 32: Gd Zr atom positions\n",
    "        idx = 0\n",
    "        for item in out_s:\n",
    "            matching  = np.where( np.prod(new_s[:,0:4]==item[0:4],axis=1) )#find the idx\n",
    "            new_s[matching,4:7] = item[4:7]#copy the spins\n",
    "            idx = idx + 1\n",
    "        print idx, 'spins copied'\n",
    "        \n",
    "        # save: copy the headers and then append the filled supercell + spins                   \n",
    "        outputs = map(lambda x: \"%s %i %i %i %i %f %f %f \" % (x[0],x[1][0],x[1][1],x[1][2],x[1][3],x[1][4],x[1][5],x[1][6]),                                                            zip(names, new_s)) \n",
    "        data = '\\n'.join(outputs) # Concat all strings in list, separated by line break\n",
    "        \n",
    "        newpath =filepath.replace('spins','filled_spins')\n",
    "        with open(filepath,'r') as infile, open(newpath, 'w') as outfile:\n",
    "            for line in infile:\n",
    "                if line.rstrip('\\n').split()[0] != \"SPIN\": # the line not starting with 'spins'\n",
    "                    outfile.write(line)# copy the heading to the file\n",
    "                else:\n",
    "                    break    \n",
    "            outfile.write(data)#append the 'spin'\n",
    "\n",
    "#print new_s.shape        \n",
    "        "
   ]
  },
  {
   "cell_type": "code",
   "execution_count": 67,
   "metadata": {
    "collapsed": false,
    "jupyter": {
     "outputs_hidden": false
    }
   },
   "outputs": [
    {
     "name": "stdout",
     "output_type": "stream",
     "text": [
      "10k_0p994_s3_wl2p41_p3500i_original_spins_01.txt\n",
      "10k_0p994_s3_wl2p41_p3500i_original_spins_02.txt\n",
      "10k_0p994_s3_wl2p41_p3500i_original_spins_03.txt\n",
      "10k_0p994_s3_wl2p41_p3500i_original_spins_04.txt\n",
      "10k_0p994_s3_wl2p41_p3500i_original_spins_05.txt\n"
     ]
    }
   ],
   "source": [
    "# change some file names\n",
    "from shutil import copyfile\n",
    "fpath = r'D:\\9_Program files\\SpinVert\\0_spinvert_program\\spinvert_with_modifed\\programs\\old_fit/'\n",
    "fname = '10k_0p994_s3_wl2p41_p3500i_original_spins_*.txt'\n",
    "for file in os.listdir(fpath):\n",
    "    if fnmatch.fnmatch(file, fname):      \n",
    "        print(file)\n",
    "        filepath = os.path.join(fpath,file)\n",
    "        newpath =filepath.replace('original_spins','spins')\n",
    "        copyfile(filepath,newpath)# copy the origal file\n"
   ]
  },
  {
   "cell_type": "code",
   "execution_count": 32,
   "metadata": {
    "collapsed": false,
    "jupyter": {
     "outputs_hidden": false
    }
   },
   "outputs": [
    {
     "name": "stdout",
     "output_type": "stream",
     "text": [
      "[ 1  2  3  4  5  6  7  8  9 10 11 12 13 14 15 16 17 18 19 20 21 22 23 24 25\n",
      " 26 27 28 29 30 31 32  1  2  3  4  5  6  7  8  9 10 11 12 13 14 15 16 17 18\n",
      " 19 20 21 22 23 24 25 26 27 28 29 30 31 32  1  2  3  4  5  6  7  8  9 10 11\n",
      " 12 13 14 15 16 17 18 19 20 21 22 23 24 25 26 27 28 29 30 31 32]\n"
     ]
    },
    {
     "data": {
      "text/plain": [
       "0"
      ]
     },
     "execution_count": 32,
     "metadata": {},
     "output_type": "execute_result"
    }
   ],
   "source": [
    "import itertools\n",
    "permu=list(itertools.product([0,1,2], repeat=3))\n",
    "#permu=np.array(permu)\n",
    "np.repeat(permu,6, axis=0)\n",
    "#print permu\n",
    "print np.repeat([np.arange(1,33)],3,axis=0).ravel()\n",
    "np.prod([ True , True,  True,  False])"
   ]
  },
  {
   "cell_type": "code",
   "execution_count": 98,
   "metadata": {
    "collapsed": false,
    "jupyter": {
     "outputs_hidden": false
    }
   },
   "outputs": [
    {
     "name": "stdout",
     "output_type": "stream",
     "text": [
      "[(1.401298464324817e-45, 2, 3, 4)]\n",
      "[[(1, 2, 3, 4)]\n",
      " [(3, 4, 3, 5)]\n",
      " [(5, 6, 3, 4)]]\n"
     ]
    },
    {
     "data": {
      "text/plain": [
       "array([ True], dtype=bool)"
      ]
     },
     "execution_count": 98,
     "metadata": {},
     "output_type": "execute_result"
    }
   ],
   "source": [
    "k = np.array([[1,2,3,4],[3,4,3,5],[5,6,3,4]])\n",
    "k2 = np.array([1,2,3,4])\n",
    "#np.sum(a==b)\n",
    "print k2.view(dtype='f,i,i,i')\n",
    "print k.view(dtype='i,i,i,i')\n",
    "np.in1d(k2.view(dtype='i,i,i,i'),k.view(dtype='i,i,i,i'))"
   ]
  },
  {
   "cell_type": "code",
   "execution_count": null,
   "metadata": {
    "collapsed": true,
    "jupyter": {
     "outputs_hidden": true
    }
   },
   "outputs": [],
   "source": [
    "np.in1d(k2.view(dtype='i,i').reshape(k2.shape[0]),k.view(dtype='i,i').reshape(k.shape[0]))\n"
   ]
  }
 ],
 "metadata": {
  "anaconda-cloud": {},
  "kernelspec": {
   "display_name": "Python 3",
   "language": "python",
   "name": "python3"
  },
  "language_info": {
   "codemirror_mode": {
    "name": "ipython",
    "version": 3
   },
   "file_extension": ".py",
   "mimetype": "text/x-python",
   "name": "python",
   "nbconvert_exporter": "python",
   "pygments_lexer": "ipython3",
   "version": "3.6.6"
  }
 },
 "nbformat": 4,
 "nbformat_minor": 4
}
