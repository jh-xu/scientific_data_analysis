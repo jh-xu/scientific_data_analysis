{
 "cells": [
  {
   "cell_type": "code",
   "execution_count": 1,
   "metadata": {
    "collapsed": false
   },
   "outputs": [
    {
     "data": {
      "text/html": [
       "<div id=\"scene0\"><div id=\"glowscript\" class=\"glowscript\"></div></div>"
      ],
      "text/plain": [
       "<IPython.core.display.HTML object>"
      ]
     },
     "metadata": {},
     "output_type": "display_data"
    },
    {
     "data": {
      "application/javascript": [
       "require.undef(\"nbextensions/glow.1.0.min\");"
      ],
      "text/plain": [
       "<IPython.core.display.Javascript object>"
      ]
     },
     "metadata": {},
     "output_type": "display_data"
    },
    {
     "data": {
      "application/javascript": [
       "require.undef(\"nbextensions/jquery-ui.custom.min\");"
      ],
      "text/plain": [
       "<IPython.core.display.Javascript object>"
      ]
     },
     "metadata": {},
     "output_type": "display_data"
    },
    {
     "data": {
      "application/javascript": [
       "require.undef(\"nbextensions/glow.1.1.min\");"
      ],
      "text/plain": [
       "<IPython.core.display.Javascript object>"
      ]
     },
     "metadata": {},
     "output_type": "display_data"
    },
    {
     "data": {
      "application/javascript": [
       "require.undef(\"nbextensions/glow.1.2.min\");"
      ],
      "text/plain": [
       "<IPython.core.display.Javascript object>"
      ]
     },
     "metadata": {},
     "output_type": "display_data"
    },
    {
     "data": {
      "application/javascript": [
       "require.undef(\"nbextensions/glow.2.0.min\");"
      ],
      "text/plain": [
       "<IPython.core.display.Javascript object>"
      ]
     },
     "metadata": {},
     "output_type": "display_data"
    },
    {
     "data": {
      "application/javascript": [
       "require.undef(\"nbextensions/glowcomm\");"
      ],
      "text/plain": [
       "<IPython.core.display.Javascript object>"
      ]
     },
     "metadata": {},
     "output_type": "display_data"
    },
    {
     "data": {
      "application/javascript": [
       "require.undef(\"nbextensions/ivglowcomm\");"
      ],
      "text/plain": [
       "<IPython.core.display.Javascript object>"
      ]
     },
     "metadata": {},
     "output_type": "display_data"
    },
    {
     "data": {
      "application/javascript": [
       "require([\"nbextensions/ivglowcomm\"], function(){console.log(\"ivisual glowcomm loaded\");})"
      ],
      "text/plain": [
       "<IPython.core.display.Javascript object>"
      ]
     },
     "metadata": {},
     "output_type": "display_data"
    }
   ],
   "source": [
    "import os\n",
    "import fnmatch\n",
    "import itertools\n",
    "import numpy as np\n",
    "from numpy import linalg as LA\n",
    "from ivisual import *"
   ]
  },
  {
   "cell_type": "code",
   "execution_count": 2,
   "metadata": {
    "collapsed": false
   },
   "outputs": [
    {
     "name": "stdout",
     "output_type": "stream",
     "text": [
      "spinice_spins_01.txt\n",
      "spinice_spins_01.txt\n",
      "['-0.57735026918962573', '-0.57735026918962573', '-0.57735026918962573'] [-0.14433757 -0.14433757 -0.14433757 -0.08333333 -0.08333333 -0.08333333\n",
      " -0.08333333 -0.08333333 -0.08333333]\n",
      "[[ 0.5   0.5   0.5 ]\n",
      " [ 0.5   0.    0.  ]\n",
      " [ 0.    0.    0.5 ]\n",
      " [ 0.    0.5   0.  ]\n",
      " [ 0.5   0.75  0.75]\n",
      " [ 0.5   0.25  0.25]\n",
      " [ 0.    0.25  0.75]\n",
      " [ 0.    0.75  0.25]\n",
      " [ 0.75  0.5   0.75]\n",
      " [ 0.75  0.    0.25]\n",
      " [ 0.25  0.    0.75]\n",
      " [ 0.25  0.5   0.25]\n",
      " [ 0.75  0.25  0.  ]\n",
      " [ 0.75  0.75  0.5 ]\n",
      " [ 0.25  0.75  0.  ]\n",
      " [ 0.25  0.25  0.5 ]] (5L, 6L, 6L, 6L, 16L, 9L)\n"
     ]
    }
   ],
   "source": [
    "################ This code allows choosing the cells to view #######\n",
    "##### First load data: poss[ibox,cell_idx 1:3, idx_atom 1:16, xyz 1:3]\n",
    "##############################################\n",
    "\n",
    "\n",
    "######load spin configuration files\n",
    "##Input: no. of atom per cell and supercell and no of files\n",
    "natcell,spdim,subbox,ibox=16,[6,6,6],[3,3,3],5\n",
    "#for GdZrO:16 atom in a cell, 6*6*6 supercell, size of sc to view, nb of files\n",
    "\n",
    "atpos=np.zeros([natcell,3])#store the atom positions in a cell\n",
    "spins=np.zeros(np.hstack([ibox,spdim,natcell,9]))#store the spins in a supercell for 5 runs\n",
    "\n",
    "filepath = r'D:\\9_Program files\\SpinVert\\gdzro_ill\\gd_ill_60mk-20k_with_paramag/'\n",
    "filename = '10k_0p994_s3_wl2p41_p3500i_spins*.txt'\n",
    "filepath = r'D:\\9_Program files\\SpinVert\\0_spinvert_program\\spinvert_with_modifed\\examples\\spinice/'\n",
    "filename = 'spinice_spins_01.txt'\n",
    "# Read the 16 atom positions\n",
    "ii=0\n",
    "for file in os.listdir(filepath):\n",
    "    if fnmatch.fnmatch(file, filename):   \n",
    "        print file\n",
    "        if ii==0:\n",
    "            with open(os.path.join(filepath,file), 'rU') as f:\n",
    "                i=0\n",
    "                for line in f:\n",
    "                    line=line.rstrip('\\n').split()# without giving delimenter, it will treat conseutive space as one\n",
    "                    if line[0]==\"SITE\":\n",
    "                        atpos[i,:]=line[1:]#automatically convert string to np.array\n",
    "                        i=i+1\n",
    "\n",
    "# local [111] axes for the 16 atoms\n",
    "aniso = np.array([[1,1,1],[1,1,1],[1,1,1],[1,1,1],\n",
    "                  [1,-1,-1],[1,-1,-1],[1,-1,-1],[1,-1,-1],\n",
    "                  [-1,1,-1],[-1,1,-1],[-1,1,-1],[-1,1,-1],\n",
    "                  [-1,-1,1],[-1,-1,1],[-1,-1,1],[-1,-1,1]])/np.sqrt(3.)/4.0\n",
    "\n",
    "# Read the all the spin orientations with doing Sx*local11,Sy*local11,Sz*local11\n",
    "ii=0 #index for different files\n",
    "jj=0\n",
    "for file in os.listdir(filepath):\n",
    "    if fnmatch.fnmatch(file, filename):   \n",
    "        print file\n",
    "        with open(os.path.join(filepath,file), 'rU') as f:\n",
    "            for line in f:\n",
    "                line=line.rstrip('\\n').split()# without giving delimenter, it will treat conseutive space as one\n",
    "                if line[0]==\"SPIN\":\n",
    "                    idxsp=np.array(line[1:5],dtype='int32')# atom index, superCell idx:[i,j,k]\n",
    "                    sxyz = np.array(line[5:8],dtype='float') # spin orientatoins\n",
    "                    # For Heisenberg: Sx*local,Sy*local,Sz*local\n",
    "                    #spins[ii,idxsp[1],idxsp[2],idxsp[3],idxsp[0]-1,:]=np.hstack(\n",
    "                        #[sxyz[0]*aniso[idxsp[0]-1,:],sxyz[1]*aniso[idxsp[0]-1,:],sxyz[2]*aniso[idxsp[0]-1,:]])\n",
    "                    #print np.dot(sxyz, aniso[idxsp[0]-1,:])\n",
    "                    # For Spin ice: only the for 3 elements is needed Si*localZ_i=+/-1 * localZ_i,  the left in not needed\n",
    "                    spins[ii,idxsp[1],idxsp[2],idxsp[3],idxsp[0]-1,:]=np.hstack(\n",
    "                        [4.*np.dot(sxyz, aniso[idxsp[0]-1,:])*aniso[idxsp[0]-1,:],sxyz[1]*aniso[idxsp[0]-1,:],sxyz[2]*aniso[idxsp[0]-1,:]])\n",
    "                    if jj<1:\n",
    "                        print line[5:8], spins[ii,idxsp[1],idxsp[2],idxsp[3],idxsp[0]-1,:]\n",
    "                        jj += 1\n",
    "        ii=ii+1\n",
    "\n",
    "        \n",
    "##### find the nearest Gd-Gd neighers\n",
    "bonds = np.zeros([5,1000])#store the 30 bonds in the unitCell: atom1,atom2,pos[a2]-pos[a1]\n",
    "idx = 0\n",
    "for i in np.arange(0,len(atpos)-1,1):\n",
    "    for ii in np.arange(i+1,len(atpos),1):\n",
    "        distance = LA.norm(atpos[i]-atpos[ii])\n",
    "        if distance==np.sqrt(2)/4 and ~np.in1d(ii,bonds[0,np.where(bonds[1,:]==i)])[0]:\n",
    "            bonds[:,idx]=np.append(np.array([i, ii]),atpos[ii]-atpos[i])\n",
    "            idx +=1\n",
    "            \n",
    "print atpos, spins.shape"
   ]
  },
  {
   "cell_type": "code",
   "execution_count": 3,
   "metadata": {
    "collapsed": false
   },
   "outputs": [
    {
     "name": "stdout",
     "output_type": "stream",
     "text": [
      "[[ 0.5   0.5   0.5 ]\n",
      " [ 0.5   0.75  0.75]\n",
      " [ 0.75  0.5   0.75]\n",
      " [ 0.75  0.75  0.5 ]]\n",
      "[[ 0.375  0.5    0.5    0.5  ]\n",
      " [ 0.125  0.25   0.25   0.25 ]\n",
      " [ 0.125  0.25   0.25   0.25 ]\n",
      " [ 0.125  0.25   0.25   0.25 ]\n",
      " [ 0.375  0.25   0.25   0.25 ]] (5L, 4L)\n",
      "[ 0  4  8 13  1  5  9 12  2  6 10 15  3  7 11 14  0  5 11 15]\n",
      "[[ 0  4  8 13]\n",
      " [ 1  5  9 12]\n",
      " [ 2  6 10 15]\n",
      " [ 3  7 11 14]\n",
      " [ 0  5 11 15]]\n",
      "[[ 0.625  0.625  0.625]\n",
      " [ 0.625  0.125  0.125]\n",
      " [ 0.125  0.125  0.625]\n",
      " [ 0.125  0.625  0.125]\n",
      " [ 0.375  0.375  0.375]\n",
      " [ 0.375  0.875  0.875]\n",
      " [ 0.875  0.375  0.875]\n",
      " [ 0.875  0.875  0.375]]\n"
     ]
    }
   ],
   "source": [
    "# Diamond lattic: center of the tetrahedra (5) + and three from O+0.25[111] \n",
    "# tetrahedra within a unit cell\n",
    "tetra = np.array([[0,4,8,13],\n",
    "                  [1,5,9,12],\n",
    "                  [2,6,10,15],\n",
    "                  [3,7,11,14],\n",
    "                  [0,5,11,15]]) \n",
    "\n",
    "print atpos[tetra[0,:]]\n",
    "diamond = np.vstack(atpos[tetra,:].sum(axis=2)/4.)#.flatten()\n",
    "print diamond, diamond.shape\n",
    "\n",
    "print tetra.flatten()\n",
    "print tetra\n",
    "\n",
    "o8b = atpos[tetra,:].sum(axis=1)/4.\n",
    "theOther3o = o8b[0,:] - np.array([[1,-1,-1], [-1,1,-1], [-1,-1,1]])/4.\n",
    "o8b = np.vstack([o8b,theOther3o])\n",
    "print o8b\n",
    "\n",
    "o8b = np.array([ [ 0.625,  0.625,  0.625],\n",
    "                 [ 0.625,  0.125,  0.125],\n",
    "                 [ 0.125,  0.125,  0.625],\n",
    "                 [ 0.125,  0.625,  0.125],\n",
    "                 [ 0.375,  0.375,  0.375],\n",
    "                 [ 0.375,  0.875,  0.875],\n",
    "                 [ 0.875,  0.375,  0.875],\n",
    "                 [ 0.875,  0.875,  0.375]])"
   ]
  },
  {
   "cell_type": "code",
   "execution_count": 4,
   "metadata": {
    "collapsed": false
   },
   "outputs": [
    {
     "name": "stdout",
     "output_type": "stream",
     "text": [
      "[[  0.      0.      0.      0.      0.     -0.125  -0.125  -0.125]\n",
      " [  0.      4.      0.      0.      0.     -0.125   0.125   0.125]\n",
      " [  0.      8.      0.      0.      0.      0.125  -0.125   0.125]\n",
      " [  0.     13.      0.      0.      0.      0.125   0.125  -0.125]\n",
      " [  1.      1.      0.      0.      0.     -0.125  -0.125  -0.125]\n",
      " [  1.      5.      0.      0.      0.     -0.125   0.125   0.125]\n",
      " [  1.      9.      0.      0.      0.      0.125  -0.125   0.125]\n",
      " [  1.     12.      0.      0.      0.      0.125   0.125  -0.125]\n",
      " [  2.      2.      0.      0.      0.     -0.125  -0.125  -0.125]\n",
      " [  2.      6.      0.      0.      0.     -0.125   0.125   0.125]\n",
      " [  2.     10.      0.      0.      0.      0.125  -0.125   0.125]\n",
      " [  2.     15.      0.      0.      0.      0.125   0.125  -0.125]\n",
      " [  3.      3.      0.      0.      0.     -0.125  -0.125  -0.125]\n",
      " [  3.      7.      0.      0.      0.     -0.125   0.125   0.125]\n",
      " [  3.     11.      0.      0.      0.      0.125  -0.125   0.125]\n",
      " [  3.     14.      0.      0.      0.      0.125   0.125  -0.125]\n",
      " [  4.      0.      0.      0.      0.      0.125   0.125   0.125]\n",
      " [  4.      5.      0.      0.      0.      0.125  -0.125  -0.125]\n",
      " [  4.     11.      0.      0.      0.     -0.125   0.125  -0.125]\n",
      " [  4.     15.      0.      0.      0.     -0.125  -0.125   0.125]\n",
      " [  5.      4.      0.      0.      0.      0.125  -0.125  -0.125]\n",
      " [  5.     14.      0.      0.      1.     -0.125  -0.125   0.125]\n",
      " [  5.     10.      0.      1.      0.     -0.125   0.125  -0.125]\n",
      " [  5.      1.      0.      1.      1.      0.125   0.125   0.125]\n",
      " [  6.      8.      0.      0.      0.     -0.125   0.125  -0.125]\n",
      " [  6.     12.      0.      0.      1.     -0.125  -0.125   0.125]\n",
      " [  6.      6.      1.      0.      0.      0.125  -0.125  -0.125]\n",
      " [  6.      3.      1.      0.      1.      0.125   0.125   0.125]\n",
      " [  7.     13.      0.      0.      0.     -0.125  -0.125   0.125]\n",
      " [  7.      9.      0.      1.      0.     -0.125   0.125  -0.125]\n",
      " [  7.      7.      1.      0.      0.      0.125  -0.125  -0.125]\n",
      " [  7.      2.      1.      1.      0.      0.125   0.125   0.125]]\n"
     ]
    }
   ],
   "source": [
    "# Find the neigbors of oxygen ions on the first unit cell\n",
    "# create a 333 supercell and search neighbor for the O ions in the centeral cell\n",
    "permu=np.array(list(itertools.product([0,1,-1], repeat=3) ) )\n",
    "allpos = np.vstack([atpos+item for item in permu])\n",
    "\n",
    "orBondsIdx = np.zeros([32,2],dtype=int) #store the 32 R-O(8b) bonds in the unitCell: idx(O8b),idx(R),\n",
    "orBonds = np.zeros([32,8])#store the 32 R-O(8b) bonds in the unitCell: idx(O8b),idx(R), dL, pos[a2]-pos[a1]\n",
    "idx = 0\n",
    "for i in np.arange(0,len(o8b),1):\n",
    "    for ii in np.arange(0,len(allpos),1):\n",
    "        distance = LA.norm(o8b[i]-allpos[ii])\n",
    "        if distance==np.sqrt(3/64.):\n",
    "            ridx = np.remainder(ii,16)\n",
    "            orBondsIdx[idx,:] = [i*1., ridx]\n",
    "            orBonds[idx,:]=np.hstack( [ [i,ridx], np.trunc(allpos[ii]), allpos[ii]-o8b[i] ] )\n",
    "            idx +=  1\n",
    "\n",
    "#print orBondsIdx\n",
    "print orBonds"
   ]
  },
  {
   "cell_type": "code",
   "execution_count": 5,
   "metadata": {
    "collapsed": true
   },
   "outputs": [],
   "source": [
    "############### Chekcthe found O neigiebors and  aniso axes #################\n",
    "# local [111] axes for the 16 atoms\n",
    "aniso0 = np.array([[1,1,1],[1,1,1],[1,1,1],[1,1,1],\n",
    "                  [1,-1,-1],[1,-1,-1],[1,-1,-1],[1,-1,-1],\n",
    "                  [-1,1,-1],[-1,1,-1],[-1,1,-1],[-1,1,-1],\n",
    "                  [-1,-1,1],[-1,-1,1],[-1,-1,1],[-1,-1,1]])/2."
   ]
  },
  {
   "cell_type": "code",
   "execution_count": 7,
   "metadata": {
    "collapsed": false,
    "scrolled": true
   },
   "outputs": [
    {
     "data": {
      "text/html": [
       "<div id=\"scene1\"><div id=\"glowscript\" class=\"glowscript\"></div></div>"
      ],
      "text/plain": [
       "<IPython.core.display.HTML object>"
      ]
     },
     "metadata": {},
     "output_type": "display_data"
    },
    {
     "data": {
      "application/javascript": [
       "window.__context = { glowscript_container: $(\"#glowscript\").removeAttr(\"id\")}"
      ],
      "text/plain": [
       "<IPython.core.display.Javascript object>"
      ]
     },
     "metadata": {},
     "output_type": "display_data"
    },
    {
     "name": "stderr",
     "output_type": "stream",
     "text": [
      "C:\\Users\\kew\\AppData\\Local\\Continuum\\Anaconda2\\lib\\site-packages\\ipykernel\\__main__.py:16: VisibleDeprecationWarning: using a non-integer number instead of an integer will result in an error in the future\n"
     ]
    }
   ],
   "source": [
    "scene1 = canvas(title='MagStr', width=500, height=500,x=500,y=500,center=(0.5,0.5,0.5),\n",
    "                 background=color.white,exit=False)\n",
    "\n",
    "scene1.autocenter = True # why not working\n",
    "scene1.autoscale = True \n",
    "spinl = 0.2; atomr = 0.5; cylr = 0.005\n",
    "\n",
    "# Plot the Gd atoms, easy axes and the bonds\n",
    "for i in tetra.flatten():\n",
    "    #ii = i+16\n",
    "    pointer = arrow(pos=atpos[i]-spinl*aniso0[i]/2, axis=spinl*aniso0[i],shaftwidth=0.01) # easy axis\n",
    "    pointer = sphere(pos=atpos[i], color=color.yellow, radius=atomr*0.05) # atoms\n",
    "    pointer = label(pos=atpos[i]+(0,0,0.1), text=str(i%16))    \n",
    "\n",
    "for i in range(bonds.shape[1]):\n",
    "    pointer = cylinder(pos=atpos[bonds[0,i]], axis=bonds[2:,i], radius=cylr,materials=materials.wood)\n",
    "\n",
    "# Plot the O atoms and the surrouding Gd (slightly shfited along local 111, to compare with the Gd)\n",
    "for i in range(len(o8b)):\n",
    "    pointer = sphere(pos=o8b[i], color=color.hsv_to_rgb((0.6667+i*0.333/8,1,0.5))  , radius=atomr*0.2) # color: blue-red\n",
    "    around = orBonds[orBonds[:,0]==i]\n",
    "    for ii in range(len(around)):\n",
    "        pointer = sphere(pos=o8b[i]+around[ii,5:]*0.8, color=color.hsv_to_rgb((0.6667+i*0.333/8,1,0.5)),\n",
    "                         radius=atomr*0.02)\n",
    "        \n",
    "scene1.lights = []\n",
    "scene1.ambient= 2\n"
   ]
  },
  {
   "cell_type": "markdown",
   "metadata": {},
   "source": [
    "## Now prepared the spins of diamond lattice and save"
   ]
  },
  {
   "cell_type": "code",
   "execution_count": 20,
   "metadata": {
    "collapsed": false
   },
   "outputs": [],
   "source": [
    "# Create diamond or o8b superlattice\n",
    "sc6 = np.zeros([8*6**3,7]) # atIdx0-32, cell index x,y,z, atom index x, y, z\n",
    "idx = 0\n",
    "ibox = 0\n",
    "for i in xrange(6):\n",
    "    for j in xrange(6):\n",
    "        for k in xrange(6):\n",
    "            for l in np.arange(0,8):\n",
    "                tetra = np.array(orBonds[orBonds[:,0]==l,1:5],dtype='int32')\n",
    "                #print tetra\n",
    "                idxCell = np.array([i,j,k] + tetra[:,1:4])\n",
    "                idxCell = np.where(idxCell==6,0,idxCell)\n",
    "                #print idxCell\n",
    "                # 0:3 for Px, 3:6 for Px, 6 :9 for Pz\n",
    "                sumTetra = spins[ibox,idxCell[:,0],idxCell[:,1],idxCell[:,2],tetra[:,0],0:3].sum(axis=0) \n",
    "                sc6[idx,:] = np.hstack((np.array([l+1,i,j,k]),sumTetra))\n",
    "                idx = idx + 1"
   ]
  },
  {
   "cell_type": "code",
   "execution_count": null,
   "metadata": {
    "collapsed": false
   },
   "outputs": [],
   "source": [
    "idxCell = np.array([[-1,0,0],[0,1, 0]])\n",
    "[1,2,3]+ idxCell\n",
    "np.where(idxCell==-1,0,idxCell)"
   ]
  },
  {
   "cell_type": "code",
   "execution_count": 21,
   "metadata": {
    "collapsed": false
   },
   "outputs": [],
   "source": [
    "# Save\n",
    "path = r'D:\\9_Program files\\SpinVert\\gdzro_ill\\gd_ill_60mk-20k_with_paramag\\diamond_correlations\\spinice_spins_01_diamond.txt'\n",
    "\n",
    "# second save super lattice\n",
    "f = open(path, 'w+') # append\n",
    "f.write('TITLE spin \\n')\n",
    "f.write('CELL 10.440 10.440 10.440 90.00 90.00 90.00\\n')\n",
    "\n",
    "names  = np.repeat('SITE',8)\n",
    "outputs = map(lambda x: \"%s  %f %f %f \" % (x[0],x[1][0],x[1][1],x[1][2]),\n",
    "              zip(names,o8b)) \n",
    "data = '\\n'.join(outputs)+'\\n' # Concat all strings in list, separated by line break\n",
    "f.write(data)\n",
    "\n",
    "f.write('BOX 6 6 6\\nFORM_FACTOR_J0 0 0 0\\n\\\n",
    "PROPOSED_MOVES 0\\nACCEPTED_MOVES 0\\nWEIGHT 3\\nCHI_SQUARED 14\\nR_FACTOR 3.4\\nSCALE 72\\n\\\n",
    "FLAT_BACKGROUND 0.0\\nLINEAR_BACKGROUND 0\\n')\n",
    "\n",
    "names  = np.repeat('SPIN',8*6**3).astype('str')\n",
    "outputs = map(lambda x: \"%s %i %i %i %i %f %f %f \" % (x[0],x[1][0],x[1][1],x[1][2],x[1][3],x[1][4],x[1][5],x[1][6]),\n",
    "              zip(names, sc6)) \n",
    "data = '\\n'.join(outputs) # Concat all strings in list, separated by line break\n",
    "f.write(data)\n",
    "f.close()"
   ]
  },
  {
   "cell_type": "code",
   "execution_count": null,
   "metadata": {
    "collapsed": false
   },
   "outputs": [],
   "source": []
  },
  {
   "cell_type": "code",
   "execution_count": null,
   "metadata": {
    "collapsed": true
   },
   "outputs": [],
   "source": []
  }
 ],
 "metadata": {
  "anaconda-cloud": {},
  "kernelspec": {
   "display_name": "Python 3",
   "language": "python",
   "name": "python3"
  },
  "language_info": {
   "codemirror_mode": {
    "name": "ipython",
    "version": 3
   },
   "file_extension": ".py",
   "mimetype": "text/x-python",
   "name": "python",
   "nbconvert_exporter": "python",
   "pygments_lexer": "ipython3",
   "version": "3.6.6"
  }
 },
 "nbformat": 4,
 "nbformat_minor": 2
}
