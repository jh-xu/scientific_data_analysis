{
 "cells": [
  {
   "cell_type": "code",
   "execution_count": null,
   "metadata": {
    "collapsed": true
   },
   "outputs": [],
   "source": [
    "'''Vpthyon 7 use GlowScript and run in Webbrower which is different from the classic Vpython.\n",
    "Before Re-running a program, first restart the Kernal@!!!!!\n",
    "pos = vector()\n",
    "display-> canvas, ggraph-> graph,\n",
    "A convert program for the code\n",
    "http://www.glowscript.org/docs/VPythonDocs/index.html\n",
    "\n",
    "'''"
   ]
  },
  {
   "cell_type": "code",
   "execution_count": 2,
   "metadata": {
    "collapsed": false
   },
   "outputs": [
    {
     "data": {
      "application/javascript": [
       "require.undef(\"nbextensions/vpython_libraries/glow.min\");"
      ],
      "text/plain": [
       "<IPython.core.display.Javascript object>"
      ]
     },
     "metadata": {},
     "output_type": "display_data"
    },
    {
     "data": {
      "application/javascript": [
       "require.undef(\"nbextensions/vpython_libraries/glowcomm\");"
      ],
      "text/plain": [
       "<IPython.core.display.Javascript object>"
      ]
     },
     "metadata": {},
     "output_type": "display_data"
    },
    {
     "data": {
      "application/javascript": [
       "require.undef(\"nbextensions/vpython_libraries/jquery-ui.custom.min\");"
      ],
      "text/plain": [
       "<IPython.core.display.Javascript object>"
      ]
     },
     "metadata": {},
     "output_type": "display_data"
    },
    {
     "data": {
      "application/javascript": [
       "require([\"nbextensions/vpython_libraries/glow.min\"], function(){console.log(\"GLOW LOADED\");})"
      ],
      "text/plain": [
       "<IPython.core.display.Javascript object>"
      ]
     },
     "metadata": {},
     "output_type": "display_data"
    },
    {
     "data": {
      "application/javascript": [
       "require([\"nbextensions/vpython_libraries/glowcomm\"], function(){console.log(\"GLOWCOMM LOADED\");})"
      ],
      "text/plain": [
       "<IPython.core.display.Javascript object>"
      ]
     },
     "metadata": {},
     "output_type": "display_data"
    },
    {
     "data": {
      "application/javascript": [
       "require([\"nbextensions/vpython_libraries/jquery-ui.custom.min\"], function(){console.log(\"JQUERY LOADED\");})"
      ],
      "text/plain": [
       "<IPython.core.display.Javascript object>"
      ]
     },
     "metadata": {},
     "output_type": "display_data"
    },
    {
     "data": {
      "text/html": [
       "<div id=\"glowscript\" class=\"glowscript\"></div>"
      ],
      "text/plain": [
       "<IPython.core.display.HTML object>"
      ]
     },
     "metadata": {},
     "output_type": "display_data"
    },
    {
     "data": {
      "application/javascript": [
       "window.__context = { glowscript_container: $(\"#glowscript\").removeAttr(\"id\")}"
      ],
      "text/plain": [
       "<IPython.core.display.Javascript object>"
      ]
     },
     "metadata": {},
     "output_type": "display_data"
    }
   ],
   "source": [
    "from vpython import *\n",
    "import numpy as np\n",
    "from numpy import linalg as LA\n",
    "import itertools\n",
    "\n",
    "############ Load the atom positions and spin directions.(only read limited some atoms in order in the filed)\n",
    "###############################################################\n",
    "\n",
    "def load_spins(fpath, nbatom, incNbCell):\n",
    "    \n",
    "    atpos=np.zeros([nbatom,3]) #store atom positons in a unit cell\n",
    "    allpos=np.zeros([nbatom*6**3,3])#store atom positons in a super cell\n",
    "    spins =np.zeros([nbatom*6**3,3])#store spins in a super cell\n",
    "    #read data\n",
    "    with open(fpath, 'rU') as f:\n",
    "        i=0\n",
    "        for line in f:\n",
    "            line=line.rstrip('\\n').split()# without giving delimenter, it will treat conseutive space as one\n",
    "            if line[0]==\"SITE\":\n",
    "                atpos[i,:]=line[1:] #automatically convert string to np.array\n",
    "                i=i+1\n",
    "                \n",
    "    with open(fpath, 'rU') as f:\n",
    "        i=0        \n",
    "        for line in f:        \n",
    "            line=line.rstrip('\\n').split()# without giving delimenter, it will treat conseutive space as one\n",
    "            if line[0]==\"SPIN\":\n",
    "                allpos[i,:]=np.array(line[2:5],dtype='f8')+atpos[np.int(line[1])-1,:]\n",
    "                spins[i,:]=line[5:8]\n",
    "                i=i+1\n",
    "                if i==incNbCell*nbatom:\n",
    "                    break\n",
    "                \n",
    "    ##### find the nearest neighers\n",
    "    bonds = np.zeros([5,1000])#store the bonds in the unitCell: atom1,atom2,pos[a2]-pos[a1]\n",
    "    idx = 0\n",
    "     #len(allpos)-1\n",
    "    for i in np.arange(0,incNbCell*nbatom,1):\n",
    "        for ii in np.arange(i+1,incNbCell*nbatom,1):\n",
    "            distance = LA.norm(allpos[i]-allpos[ii])\n",
    "            if distance==2*np.sqrt(3/64.) and ~np.in1d(ii,bonds[0,np.where(bonds[1,:]==i)])[0]:\n",
    "                bonds[:,idx]=np.append(np.array([i, ii]),allpos[ii]-allpos[i])\n",
    "                idx +=1\n",
    "    \n",
    "    return atpos, allpos, spins, bonds\n",
    "    "
   ]
  },
  {
   "cell_type": "code",
   "execution_count": 3,
   "metadata": {
    "collapsed": false
   },
   "outputs": [
    {
     "data": {
      "text/html": [
       "<div id=\"glowscript\" class=\"glowscript\"></div>"
      ],
      "text/plain": [
       "<IPython.core.display.HTML object>"
      ]
     },
     "metadata": {},
     "output_type": "display_data"
    },
    {
     "data": {
      "application/javascript": [
       "window.__context = { glowscript_container: $(\"#glowscript\").removeAttr(\"id\")}"
      ],
      "text/plain": [
       "<IPython.core.display.Javascript object>"
      ]
     },
     "metadata": {},
     "output_type": "display_data"
    },
    {
     "name": "stderr",
     "output_type": "stream",
     "text": [
      "C:\\Users\\kew\\AppData\\Local\\Continuum\\Anaconda2\\lib\\site-packages\\ipykernel\\__main__.py:28: VisibleDeprecationWarning: using a non-integer number instead of an integer will result in an error in the future\n"
     ]
    },
    {
     "ename": "AttributeError",
     "evalue": "pos must be a vector",
     "output_type": "error",
     "traceback": [
      "\u001b[1;31m---------------------------------------------------------------------------\u001b[0m",
      "\u001b[1;31mAttributeError\u001b[0m                            Traceback (most recent call last)",
      "\u001b[1;32m<ipython-input-3-adc4fb3d84ac>\u001b[0m in \u001b[0;36m<module>\u001b[1;34m()\u001b[0m\n\u001b[0;32m     30\u001b[0m \u001b[1;31m#for i in range(len(allpos)):\u001b[0m\u001b[1;33m\u001b[0m\u001b[1;33m\u001b[0m\u001b[0m\n\u001b[0;32m     31\u001b[0m \u001b[1;32mfor\u001b[0m \u001b[0mi\u001b[0m \u001b[1;32min\u001b[0m \u001b[0mrange\u001b[0m\u001b[1;33m(\u001b[0m\u001b[0mincNbCell\u001b[0m\u001b[1;33m*\u001b[0m\u001b[0mnbatom\u001b[0m\u001b[1;33m)\u001b[0m\u001b[1;33m:\u001b[0m\u001b[1;33m\u001b[0m\u001b[0m\n\u001b[1;32m---> 32\u001b[1;33m     \u001b[0mpointer\u001b[0m \u001b[1;33m=\u001b[0m \u001b[0marrow\u001b[0m\u001b[1;33m(\u001b[0m\u001b[0mpos\u001b[0m\u001b[1;33m=\u001b[0m\u001b[0mallpos\u001b[0m\u001b[1;33m[\u001b[0m\u001b[0mi\u001b[0m\u001b[1;33m]\u001b[0m\u001b[1;33m-\u001b[0m\u001b[0mspinl\u001b[0m\u001b[1;33m*\u001b[0m\u001b[0mspins\u001b[0m\u001b[1;33m[\u001b[0m\u001b[0mi\u001b[0m\u001b[1;33m]\u001b[0m\u001b[1;33m/\u001b[0m\u001b[1;36m2\u001b[0m\u001b[1;33m,\u001b[0m \u001b[0maxis\u001b[0m\u001b[1;33m=\u001b[0m\u001b[0mspinl\u001b[0m\u001b[1;33m*\u001b[0m\u001b[0mspins\u001b[0m\u001b[1;33m[\u001b[0m\u001b[0mi\u001b[0m\u001b[1;33m]\u001b[0m\u001b[1;33m,\u001b[0m\u001b[0mcolor\u001b[0m\u001b[1;33m=\u001b[0m\u001b[0mcolor\u001b[0m\u001b[1;33m.\u001b[0m\u001b[0myellow\u001b[0m\u001b[1;33m)\u001b[0m \u001b[1;31m# spins\u001b[0m\u001b[1;33m\u001b[0m\u001b[0m\n\u001b[0m\u001b[0;32m     33\u001b[0m     \u001b[0mpointer\u001b[0m \u001b[1;33m=\u001b[0m \u001b[0msphere\u001b[0m\u001b[1;33m(\u001b[0m\u001b[0mpos\u001b[0m\u001b[1;33m=\u001b[0m\u001b[0mallpos\u001b[0m\u001b[1;33m[\u001b[0m\u001b[0mi\u001b[0m\u001b[1;33m]\u001b[0m\u001b[1;33m,\u001b[0m \u001b[0mcolor\u001b[0m\u001b[1;33m=\u001b[0m\u001b[0mcolor\u001b[0m\u001b[1;33m.\u001b[0m\u001b[0mred\u001b[0m\u001b[1;33m,\u001b[0m \u001b[0mradius\u001b[0m\u001b[1;33m=\u001b[0m\u001b[0matomr\u001b[0m\u001b[1;33m*\u001b[0m\u001b[1;36m0.1\u001b[0m\u001b[1;33m)\u001b[0m \u001b[1;31m# atoms\u001b[0m\u001b[1;33m\u001b[0m\u001b[0m\n\u001b[0;32m     34\u001b[0m     \u001b[1;31m#pointer = label(pos=allpos[i]+(0,0,0.1), text=str(i%16))\u001b[0m\u001b[1;33m\u001b[0m\u001b[1;33m\u001b[0m\u001b[0m\n",
      "\u001b[1;32mC:\\Users\\kew\\AppData\\Local\\Continuum\\Anaconda2\\lib\\site-packages\\vpython\\vpython.pyc\u001b[0m in \u001b[0;36m__init__\u001b[1;34m(self, **args)\u001b[0m\n\u001b[0;32m   1288\u001b[0m         \u001b[0mself\u001b[0m\u001b[1;33m.\u001b[0m\u001b[0m_headlength\u001b[0m \u001b[1;33m=\u001b[0m \u001b[1;36m0\u001b[0m\u001b[1;33m\u001b[0m\u001b[0m\n\u001b[0;32m   1289\u001b[0m \u001b[1;33m\u001b[0m\u001b[0m\n\u001b[1;32m-> 1290\u001b[1;33m         \u001b[0msuper\u001b[0m\u001b[1;33m(\u001b[0m\u001b[0marrow\u001b[0m\u001b[1;33m,\u001b[0m \u001b[0mself\u001b[0m\u001b[1;33m)\u001b[0m\u001b[1;33m.\u001b[0m\u001b[0msetup\u001b[0m\u001b[1;33m(\u001b[0m\u001b[0margs\u001b[0m\u001b[1;33m)\u001b[0m\u001b[1;33m\u001b[0m\u001b[0m\n\u001b[0m\u001b[0;32m   1291\u001b[0m \u001b[1;33m\u001b[0m\u001b[0m\n\u001b[0;32m   1292\u001b[0m     \u001b[1;33m@\u001b[0m\u001b[0mproperty\u001b[0m\u001b[1;33m\u001b[0m\u001b[0m\n",
      "\u001b[1;32mC:\\Users\\kew\\AppData\\Local\\Continuum\\Anaconda2\\lib\\site-packages\\vpython\\vpython.pyc\u001b[0m in \u001b[0;36msetup\u001b[1;34m(self, args)\u001b[0m\n\u001b[0;32m    629\u001b[0m                 \u001b[0mval\u001b[0m \u001b[1;33m=\u001b[0m \u001b[0margs\u001b[0m\u001b[1;33m[\u001b[0m\u001b[0ma\u001b[0m\u001b[1;33m]\u001b[0m\u001b[1;33m\u001b[0m\u001b[0m\n\u001b[0;32m    630\u001b[0m                 \u001b[1;32mif\u001b[0m \u001b[0misinstance\u001b[0m\u001b[1;33m(\u001b[0m\u001b[0mval\u001b[0m\u001b[1;33m,\u001b[0m \u001b[0mvector\u001b[0m\u001b[1;33m)\u001b[0m\u001b[1;33m:\u001b[0m \u001b[0msetattr\u001b[0m\u001b[1;33m(\u001b[0m\u001b[0mself\u001b[0m\u001b[1;33m,\u001b[0m \u001b[1;34m'_'\u001b[0m\u001b[1;33m+\u001b[0m\u001b[0ma\u001b[0m\u001b[1;33m,\u001b[0m \u001b[0mvector\u001b[0m\u001b[1;33m(\u001b[0m\u001b[0mval\u001b[0m\u001b[1;33m)\u001b[0m\u001b[1;33m)\u001b[0m  \u001b[1;31m## by-passing setters; copy of val\u001b[0m\u001b[1;33m\u001b[0m\u001b[0m\n\u001b[1;32m--> 631\u001b[1;33m                 \u001b[1;32melse\u001b[0m\u001b[1;33m:\u001b[0m \u001b[1;32mraise\u001b[0m \u001b[0mAttributeError\u001b[0m\u001b[1;33m(\u001b[0m\u001b[0ma\u001b[0m\u001b[1;33m+\u001b[0m\u001b[1;34m' must be a vector'\u001b[0m\u001b[1;33m)\u001b[0m\u001b[1;33m\u001b[0m\u001b[0m\n\u001b[0m\u001b[0;32m    632\u001b[0m                 \u001b[1;32mdel\u001b[0m \u001b[0margs\u001b[0m\u001b[1;33m[\u001b[0m\u001b[0ma\u001b[0m\u001b[1;33m]\u001b[0m\u001b[1;33m\u001b[0m\u001b[0m\n\u001b[0;32m    633\u001b[0m \u001b[1;33m\u001b[0m\u001b[0m\n",
      "\u001b[1;31mAttributeError\u001b[0m: pos must be a vector"
     ]
    }
   ],
   "source": [
    "################ Read file \n",
    "# Diamond lattice\n",
    "fpath= r'D:\\9_Program files\\SpinVert\\gdzro_ill\\gd_ill_60mk-20k_with_paramag\\diamond_correlations\\spinice_spins_01_diamond.txt'\n",
    "incNbCell = 5\n",
    "nbatom = 8\n",
    "atpos, allpos, spins, bonds = load_spins(fpath,nbatom,incNbCell)\n",
    "# Pyrochlore lattice\n",
    "fpath= r'D:\\9_Program files\\SpinVert\\gdzro_ill\\gd_ill_60mk-20k_with_paramag\\diamond_correlations\\spinice_spins_01.txt'\n",
    "nbatom0=16\n",
    "atpos0, allpos0, spins0, _ = load_spins(fpath,nbatom0,incNbCell)\n",
    "\n",
    "\n",
    "\n",
    "# #############################\n",
    "scene1 = canvas(title='MagStr', width=500, height=500,x=500,y=500, center=vector(0.5,0.5,1), userzoom = True,\n",
    "                background=color.black,exit=False)\n",
    "\n",
    "#scene1.autocenter = True\n",
    "#scene1.autoscale = True\n",
    "\n",
    "#scene1.lights = []\n",
    "#scene1.ambient= 2\n",
    "\n",
    "spinl = 0.5; spinl0 = 0.2\n",
    "atomr = 0.5; cylr = 0.005\n",
    "\n",
    "for i in range(bonds.shape[1]):\n",
    "    pointer = cylinder(pos=vector(*allpos[bonds[0,i]]), axis=vector(*bonds[2:,i]), radius=cylr)\n",
    "\n",
    "#for i in range(len(allpos)):\n",
    "for i in range(incNbCell*nbatom):\n",
    "    pointer = arrow(pos=allpos[i]-spinl*spins[i]/2, axis=spinl*spins[i],color=color.yellow) # spins\n",
    "    pointer = sphere(pos=allpos[i], color=color.red, radius=atomr*0.1) # atoms\n",
    "    #pointer = label(pos=allpos[i]+(0,0,0.1), text=str(i%16))  \n",
    "\n",
    "mybox = box(pos=(0.5,0.5,0.5), length=1, height=1, width=1, opacity=0.5)\n",
    "\n",
    "for i in range(incNbCell*nbatom0):\n",
    "    pointer = arrow(pos=allpos0[i]-spinl0*spins0[i]/2, axis=spinl0*spins0[i],color=color.blue) # spins\n",
    "\n",
    "# the Sx    \n",
    "##spins0x = np.zeros_like(spins0)\n",
    "##spins0x[:,0] = spins0[:,0]\n",
    "##\n",
    "##for i in range(incNbCell*nbatom0):\n",
    "##    pointer = arrow(pos=allpos0[i]-spinl0*spins0x[i]/2, axis=spinl0*spins0x[i]) # spins\n"
   ]
  },
  {
   "cell_type": "code",
   "execution_count": 2,
   "metadata": {
    "collapsed": true
   },
   "outputs": [],
   "source": [
    "box()"
   ]
  },
  {
   "cell_type": "code",
   "execution_count": null,
   "metadata": {
    "collapsed": true
   },
   "outputs": [],
   "source": []
  }
 ],
 "metadata": {
  "kernelspec": {
   "display_name": "VPython",
   "language": "python",
   "name": "vpython"
  },
  "language_info": {
   "codemirror_mode": {
    "name": "ipython",
    "version": 2
   },
   "file_extension": ".py",
   "mimetype": "text/x-python",
   "name": "python",
   "nbconvert_exporter": "python",
   "pygments_lexer": "ipython2",
   "version": "2.7.12"
  }
 },
 "nbformat": 4,
 "nbformat_minor": 0
}
